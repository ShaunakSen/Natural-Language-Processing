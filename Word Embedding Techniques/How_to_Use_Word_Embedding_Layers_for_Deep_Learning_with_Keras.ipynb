{
  "nbformat": 4,
  "nbformat_minor": 0,
  "metadata": {
    "colab": {
      "name": "How to Use Word Embedding Layers for Deep Learning with Keras.ipynb",
      "version": "0.3.2",
      "provenance": [],
      "collapsed_sections": [],
      "include_colab_link": true
    },
    "kernelspec": {
      "name": "python3",
      "display_name": "Python 3"
    }
  },
  "cells": [
    {
      "cell_type": "markdown",
      "metadata": {
        "id": "view-in-github",
        "colab_type": "text"
      },
      "source": [
        "<a href=\"https://colab.research.google.com/github/ShaunakSen/Deep-Learning/blob/master/How_to_Use_Word_Embedding_Layers_for_Deep_Learning_with_Keras.ipynb\" target=\"_parent\"><img src=\"https://colab.research.google.com/assets/colab-badge.svg\" alt=\"Open In Colab\"/></a>"
      ]
    },
    {
      "metadata": {
        "id": "YFJZi-CepnFr",
        "colab_type": "text"
      },
      "cell_type": "markdown",
      "source": [
        "## How to Use Word Embedding Layers for Deep Learning with Keras\n",
        "\n",
        "[tutorial link](https://machinelearningmastery.com/use-word-embedding-layers-deep-learning-keras/)\n",
        "\n",
        "Word embeddings provide a dense representation of words and their relative meanings.\n",
        "\n",
        "They are an improvement over sparse representations used in simpler bag of word model representations.\n",
        "\n",
        "Word embeddings can be learned from text data and reused among projects. They can also be learned as part of fitting a neural network on text data\n",
        "\n",
        "### What is Word Embedding\n",
        "\n",
        "A word embedding is a class of approaches for representing words and documents using a dense vector representation.\n",
        "\n",
        "It is an improvement over more the traditional bag-of-word model encoding schemes where large sparse vectors were used to represent each word or to score each word within a vector to represent an entire vocabulary. These representations were sparse because the vocabularies were vast and a given word or document would be represented by a large vector comprised mostly of zero values.\n",
        "\n",
        "Instead, in an embedding, words are represented by **dense vectors** where a vector represents the projection of the word into a continuous vector space.\n",
        "\n",
        "**The position of a word within the vector space is learned from text and is based on the words that surround the word when it is used.**\n",
        "\n",
        "The position of a word in the learned vector space is referred to as its embedding.\n",
        "\n",
        "Two popular examples of methods of learning word embeddings from text include:\n",
        "\n",
        "- Word2Vec.\n",
        "- GloVe.\n",
        "\n",
        "In addition to these carefully designed methods, a word embedding can be learned as part of a deep learning model. This can be a slower approach, but tailors the model to a specific training dataset.\n",
        "\n",
        "### Keras Embedding Layer\n",
        "\n",
        "Keras offers an Embedding layer that can be used for neural networks on text data.\n",
        "\n",
        "It requires that the input data be integer encoded, so that each word is represented by a unique integer. This data preparation step can be performed using the Tokenizer API also provided with Keras.\n",
        "\n",
        "The Embedding layer is initialized with random weights and will learn an embedding for all of the words in the training dataset.\n",
        "\n",
        "It is a flexible layer that can be used in a variety of ways, such as:\n",
        "\n",
        "- It can be used alone to learn a word embedding that can be saved and used in another model later.\n",
        "- It can be used as part of a deep learning model where the embedding is learned along with the model itself.\n",
        "- It can be used to load a pre-trained word embedding model, a type of transfer learning.\n",
        "\n",
        "The Embedding layer is defined as the first hidden layer of a network. It must specify 3 arguments:\n",
        "\n",
        "- input_dim: This is the size of the vocabulary in the text data. For example, if your data is integer encoded to values between 0-10, then the size of the vocabulary would be 11 words.\n",
        "\n",
        "- output_dim: This is the size of the vector space in which words will be embedded. It defines the size of the output vectors from this layer for each word. For example, it could be 32 or 100 or even larger. Test different values for your problem.\n",
        "\n",
        "- input_length: This is the length of input sequences, as you would define for any input layer of a Keras model. For example, if all of your input documents are comprised of 1000 words, this would be 1000.\n",
        "\n",
        "For example, below we define an Embedding layer with a vocabulary of 200 (e.g. integer encoded words from 0 to 199, inclusive), a vector space of 32 dimensions in which words will be embedded, and input documents that have 50 words each.\n",
        "\n",
        "``\n",
        "e = Embedding(200, 32, input_length=50)\n",
        "``\n",
        "\n",
        "The Embedding layer has weights that are learned. If you save your model to file, this will include weights for the Embedding layer.\n",
        "\n",
        "The output of the Embedding layer is a 2D vector with one embedding for each word in the input sequence of words (input document).\n",
        "\n",
        "If you wish to connect a Dense layer directly to an Embedding layer, you must first flatten the 2D output matrix to a 1D vector using the Flatten layer.\n",
        "\n",
        "\n",
        "### Example of Learning an Embedding\n",
        "\n",
        "In this section, we will look at how we can learn a word embedding while fitting a neural network on a text classification problem.\n",
        "\n",
        "We will define a small problem where we have 10 text documents, each with a comment about a piece of work a student submitted. Each text document is classified as positive “1” or negative “0”. This is a simple sentiment analysis problem.\n",
        "\n",
        "First, we will define the documents and their class labels."
      ]
    },
    {
      "metadata": {
        "id": "u8HuGa8nsDCV",
        "colab_type": "code",
        "colab": {}
      },
      "cell_type": "code",
      "source": [
        "import numpy as np\n",
        "from keras.models import Sequential\n",
        "from keras.layers import Dense\n",
        "from keras.layers import Flatten\n",
        "from keras.layers import Embedding\n",
        "from keras.layers import Dropout\n",
        "from keras.layers import LSTM\n",
        "from keras.callbacks import ModelCheckpoint\n",
        "from keras.utils import np_utils\n",
        "from keras.preprocessing.text import  one_hot\n",
        "from keras.preprocessing.text import Tokenizer\n",
        "from keras.preprocessing.sequence import pad_sequences\n",
        "\n",
        "import sys"
      ],
      "execution_count": 0,
      "outputs": []
    },
    {
      "metadata": {
        "id": "-p4LmmDupkn1",
        "colab_type": "code",
        "colab": {}
      },
      "cell_type": "code",
      "source": [
        "# define documents\n",
        "docs = ['Well done!',\n",
        "\t\t'Good work',\n",
        "\t\t'Great effort',\n",
        "\t\t'nice work',\n",
        "\t\t'Excellent!',\n",
        "\t\t'Weak',\n",
        "\t\t'Poor effort!',\n",
        "\t\t'not good',\n",
        "\t\t'poor work',\n",
        "\t\t'Could have done better.']\n",
        "# define class labels\n",
        "labels = np.array([1,1,1,1,1,0,0,0,0,0])"
      ],
      "execution_count": 0,
      "outputs": []
    },
    {
      "metadata": {
        "id": "lkbdyHNsuCZ4",
        "colab_type": "text"
      },
      "cell_type": "markdown",
      "source": [
        "Next, we can integer encode each document. This means that as input the Embedding layer will have sequences of integers. We could experiment with other more sophisticated bag of word model encoding like counts or TF-IDF.\n",
        "\n",
        "Keras provides the one_hot() function that creates a hash of each word as an efficient integer encoding. We will estimate the vocabulary size of 50, which is much larger than needed to reduce the probability of collisions from the hash function."
      ]
    },
    {
      "metadata": {
        "id": "8aJwODcsuheJ",
        "colab_type": "code",
        "outputId": "b0dbf5f4-fddc-4da3-f26a-4979833992c1",
        "colab": {
          "base_uri": "https://localhost:8080/",
          "height": 34
        }
      },
      "cell_type": "code",
      "source": [
        "one_hot(text='Well done! bhondu bhondu', n=20)"
      ],
      "execution_count": 3,
      "outputs": [
        {
          "output_type": "execute_result",
          "data": {
            "text/plain": [
              "[4, 10, 11, 11]"
            ]
          },
          "metadata": {
            "tags": []
          },
          "execution_count": 3
        }
      ]
    },
    {
      "metadata": {
        "id": "Boogc_STuFNA",
        "colab_type": "code",
        "outputId": "9099db0c-26cf-4a78-ae09-4cb826777a6c",
        "colab": {
          "base_uri": "https://localhost:8080/",
          "height": 34
        }
      },
      "cell_type": "code",
      "source": [
        "# integer encode the documents\n",
        "\n",
        "vocab_size = 50\n",
        "\n",
        "encoded_docs = [one_hot(text=d, n=vocab_size) for d in docs]\n",
        "\n",
        "print(encoded_docs)"
      ],
      "execution_count": 4,
      "outputs": [
        {
          "output_type": "stream",
          "text": [
            "[[45, 41], [27, 23], [19, 2], [28, 23], [3], [47], [15, 2], [13, 27], [15, 23], [7, 10, 41, 15]]\n"
          ],
          "name": "stdout"
        }
      ]
    },
    {
      "metadata": {
        "id": "jQK5QqdqvavR",
        "colab_type": "text"
      },
      "cell_type": "markdown",
      "source": [
        "The sequences have different lengths and Keras prefers inputs to be vectorized and all inputs to have the same length. We will pad all input sequences to have the length of 4. Again, we can do this with a built in Keras function, in this case the pad_sequences() function.\n",
        "\n"
      ]
    },
    {
      "metadata": {
        "id": "IsVYXnLVvfpB",
        "colab_type": "code",
        "outputId": "e76b257e-cf93-4c67-af2a-81cc8d68420e",
        "colab": {
          "base_uri": "https://localhost:8080/",
          "height": 194
        }
      },
      "cell_type": "code",
      "source": [
        "# pad documents to a max length of 4 words\n",
        "max_length = 4\n",
        "padded_docs = pad_sequences(encoded_docs, padding='post')\n",
        "\n",
        "padded_docs\n"
      ],
      "execution_count": 5,
      "outputs": [
        {
          "output_type": "execute_result",
          "data": {
            "text/plain": [
              "array([[45, 41,  0,  0],\n",
              "       [27, 23,  0,  0],\n",
              "       [19,  2,  0,  0],\n",
              "       [28, 23,  0,  0],\n",
              "       [ 3,  0,  0,  0],\n",
              "       [47,  0,  0,  0],\n",
              "       [15,  2,  0,  0],\n",
              "       [13, 27,  0,  0],\n",
              "       [15, 23,  0,  0],\n",
              "       [ 7, 10, 41, 15]], dtype=int32)"
            ]
          },
          "metadata": {
            "tags": []
          },
          "execution_count": 5
        }
      ]
    },
    {
      "metadata": {
        "id": "ZMwmtmfGyP8r",
        "colab_type": "text"
      },
      "cell_type": "markdown",
      "source": [
        "We are now ready to define our Embedding layer as part of our neural network model.\n",
        "\n",
        "The Embedding has a vocabulary of 50 and an input length of 4. We will choose a small embedding space of 8 dimensions.\n",
        "\n",
        "The model is a simple binary classification model. Importantly, the output from the Embedding layer will be 4 vectors of 8 dimensions each, one for each word. We flatten this to a one 32-element vector to pass on to the Dense output layer."
      ]
    },
    {
      "metadata": {
        "id": "T6InZwuUye_y",
        "colab_type": "code",
        "outputId": "cbda8bc0-18ab-4104-e757-ecd824bbee7f",
        "colab": {
          "base_uri": "https://localhost:8080/",
          "height": 338
        }
      },
      "cell_type": "code",
      "source": [
        "# define the model\n",
        "\n",
        "model = Sequential()\n",
        "model.add(Embedding(input_dim=vocab_size, output_dim=8, input_length=4))\n",
        "model.add(Flatten())\n",
        "model.add(Dense(units=1, activation='sigmoid'))\n",
        "\n",
        "# compile the model\n",
        "\n",
        "model.compile(optimizer='adam', loss='binary_crossentropy', metrics=['acc'])\n",
        "# summarize the model\n",
        "print(model.summary())"
      ],
      "execution_count": 6,
      "outputs": [
        {
          "output_type": "stream",
          "text": [
            "WARNING:tensorflow:From /usr/local/lib/python3.6/dist-packages/tensorflow/python/framework/op_def_library.py:263: colocate_with (from tensorflow.python.framework.ops) is deprecated and will be removed in a future version.\n",
            "Instructions for updating:\n",
            "Colocations handled automatically by placer.\n",
            "_________________________________________________________________\n",
            "Layer (type)                 Output Shape              Param #   \n",
            "=================================================================\n",
            "embedding_1 (Embedding)      (None, 4, 8)              400       \n",
            "_________________________________________________________________\n",
            "flatten_1 (Flatten)          (None, 32)                0         \n",
            "_________________________________________________________________\n",
            "dense_1 (Dense)              (None, 1)                 33        \n",
            "=================================================================\n",
            "Total params: 433\n",
            "Trainable params: 433\n",
            "Non-trainable params: 0\n",
            "_________________________________________________________________\n",
            "None\n"
          ],
          "name": "stdout"
        }
      ]
    },
    {
      "metadata": {
        "id": "6Yfy2I470ZU8",
        "colab_type": "text"
      },
      "cell_type": "markdown",
      "source": [
        "Finally, we can fit and evaluate the classification model.\n",
        "\n"
      ]
    },
    {
      "metadata": {
        "id": "q3AhDnXZ0Z80",
        "colab_type": "code",
        "outputId": "05121a7c-f9a8-407a-aa05-514e7681aa2a",
        "colab": {
          "base_uri": "https://localhost:8080/",
          "height": 107
        }
      },
      "cell_type": "code",
      "source": [
        "# fit the model\n",
        "\n",
        "model.fit(x=padded_docs, y=labels, epochs=50, verbose=0)\n",
        "\n",
        "# evaluate the model\n",
        "\n",
        "loss, accuracy = model.evaluate(padded_docs, labels, verbose=0)\n",
        "print('Accuracy: %f' % (accuracy*100))"
      ],
      "execution_count": 7,
      "outputs": [
        {
          "output_type": "stream",
          "text": [
            "WARNING:tensorflow:From /usr/local/lib/python3.6/dist-packages/tensorflow/python/ops/math_ops.py:3066: to_int32 (from tensorflow.python.ops.math_ops) is deprecated and will be removed in a future version.\n",
            "Instructions for updating:\n",
            "Use tf.cast instead.\n",
            "Accuracy: 89.999998\n"
          ],
          "name": "stdout"
        }
      ]
    },
    {
      "metadata": {
        "id": "0_svGuOGAK_V",
        "colab_type": "text"
      },
      "cell_type": "markdown",
      "source": [
        "### Example of Using Pre-Trained GloVe Embedding\n",
        "\n",
        "The Keras Embedding layer can also use a word embedding learned elsewhere.\n",
        "\n",
        "It is common in the field of Natural Language Processing to learn, save, and make freely available word embeddings.\n",
        "\n",
        "For example, the researchers behind GloVe method provide a suite of pre-trained word embeddings on their website released under a public domain license. See:\n",
        "\n",
        "[GloVe: Global Vectors for Word Representation](https://nlp.stanford.edu/projects/glove/)\n",
        "\n",
        "The smallest package of embeddings is 822Mb, called “glove.6B.zip“. It was trained on a dataset of one billion tokens (words) with a vocabulary of 400 thousand words. There are a few different embedding vector sizes, including 50, 100, 200 and 300 dimensions.\n",
        "\n",
        "You can download this collection of embeddings and we can seed the Keras Embedding layer with weights from the pre-trained embedding for the words in your training dataset.\n",
        "\n",
        "After downloading and unzipping, you will see a few files, one of which is “glove.6B.100d.txt“, which contains a 100-dimensional version of the embedding.\n",
        "\n",
        "If you peek inside the file, you will see a token (word) followed by the weights (100 numbers) on each line. For example, below are the first line of the embedding ASCII text file showing the embedding for “the“.\n",
        "\n",
        "As in the previous section, the first step is to define the examples, encode them as integers, then pad the sequences to be the same length.\n",
        "\n",
        "In this case, we need to be able to map words to integers as well as integers to words.\n",
        "\n",
        "Keras provides a Tokenizer class that can be fit on the training data, can convert text to sequences consistently by calling the texts_to_sequences() method on the Tokenizer class, and provides access to the dictionary mapping of words to integers in a word_index attribute."
      ]
    },
    {
      "metadata": {
        "id": "4bjwOK1uBy8V",
        "colab_type": "code",
        "colab": {
          "base_uri": "https://localhost:8080/",
          "height": 212
        },
        "outputId": "e0269c45-8c4e-4f81-9100-f953f02adf84"
      },
      "cell_type": "code",
      "source": [
        "# define docs\n",
        "\n",
        "docs = ['Well done!',\n",
        "\t\t'Good work',\n",
        "\t\t'Great effort',\n",
        "\t\t'nice work',\n",
        "\t\t'Excellent!',\n",
        "\t\t'Weak',\n",
        "\t\t'Poor effort!',\n",
        "\t\t'not good',\n",
        "\t\t'poor work',\n",
        "\t\t'Could have done better.']\n",
        "# define class labels\n",
        "labels = np.array([1,1,1,1,1,0,0,0,0,0])\n",
        "# prepare tokenizer\n",
        "\n",
        "t = Tokenizer()\n",
        "t.fit_on_texts(docs)\n",
        "\n",
        "vocab_size = len(t.word_index) + 1\n",
        "\n",
        "# integer encode the documents\n",
        "encoded_docs = t.texts_to_sequences(docs)\n",
        "print(encoded_docs)\n",
        "\n",
        "# pad documents to a max length of 4 words\n",
        "max_length = 4\n",
        "padded_docs = pad_sequences(encoded_docs, maxlen=max_length, padding='post')\n",
        "print(padded_docs)"
      ],
      "execution_count": 13,
      "outputs": [
        {
          "output_type": "stream",
          "text": [
            "[[6, 2], [3, 1], [7, 4], [8, 1], [9], [10], [5, 4], [11, 3], [5, 1], [12, 13, 2, 14]]\n",
            "[[ 6  2  0  0]\n",
            " [ 3  1  0  0]\n",
            " [ 7  4  0  0]\n",
            " [ 8  1  0  0]\n",
            " [ 9  0  0  0]\n",
            " [10  0  0  0]\n",
            " [ 5  4  0  0]\n",
            " [11  3  0  0]\n",
            " [ 5  1  0  0]\n",
            " [12 13  2 14]]\n"
          ],
          "name": "stdout"
        }
      ]
    },
    {
      "metadata": {
        "id": "TdFBe6miC43N",
        "colab_type": "text"
      },
      "cell_type": "markdown",
      "source": [
        "Next, we need to load the entire GloVe word embedding file into memory as a dictionary of word to embedding array.\n",
        "\n",
        "```\n",
        "# load the whole embedding into memory\n",
        "embeddings_index = dict()\n",
        "f = open('glove.6B.100d.txt')\n",
        "for line in f:\n",
        "\tvalues = line.split()\n",
        "\tword = values[0]\n",
        "\tcoefs = asarray(values[1:], dtype='float32')\n",
        "\tembeddings_index[word] = coefs\n",
        "f.close()\n",
        "print('Loaded %s word vectors.' % len(embeddings_index))\n",
        "```\n",
        "\n",
        "This is pretty slow. It might be better to filter the embedding for the unique words in your training data.\n",
        "\n",
        "Next, we need to create a matrix of one embedding for each word in the training dataset. We can do that by enumerating all unique words in the Tokenizer.word_index and locating the embedding weight vector from the loaded GloVe embedding.\n",
        "\n",
        "The result is a matrix of weights only for words we will see during training.\n",
        "\n",
        "\n",
        "```\n",
        "# create a weight matrix for words in training docs\n",
        "embedding_matrix = zeros((vocab_size, 100))\n",
        "for word, i in t.word_index.items():\n",
        "\tembedding_vector = embeddings_index.get(word)\n",
        "\tif embedding_vector is not None:\n",
        "\t\tembedding_matrix[i] = embedding_vector\n",
        "    \n",
        "```\n",
        "\n",
        "Now we can define our model, fit, and evaluate it as before.\n",
        "\n",
        "The key difference is that the embedding layer can be seeded with the GloVe word embedding weights. We chose the 100-dimensional version, therefore the Embedding layer must be defined with output_dim set to 100. Finally, we do not want to update the learned word weights in this model, therefore we will set the trainable attribute for the model to be False.\n",
        "\n",
        "```\n",
        "e = Embedding(vocab_size, 100, weights=[embedding_matrix], input_length=4, trainable=False)\n",
        "```\n",
        "\n"
      ]
    },
    {
      "metadata": {
        "id": "o_DYGTGwEydE",
        "colab_type": "text"
      },
      "cell_type": "markdown",
      "source": [
        ""
      ]
    }
  ]
}