{
 "cells": [
  {
   "cell_type": "markdown",
   "metadata": {},
   "source": [
    "## Development with Large Language Models Tutorial – OpenAI, Langchain, Agents, Chroma\n",
    "\n",
    "> Notes on tutorial by freecodecamp: https://www.youtube.com/watch?v=xZDB1naRUlk\n",
    "---\n"
   ]
  },
  {
   "cell_type": "code",
   "execution_count": 5,
   "metadata": {},
   "outputs": [
    {
     "name": "stdout",
     "output_type": "stream",
     "text": [
      "2023-09-16 01:29:27 - Created default config file at /Users/shaunaksen/Documents/personal-projects/Natural-Language-Processing/LLM Concepts/Langchain Tutorials/.chainlit/config.toml\n"
     ]
    }
   ],
   "source": [
    "import os\n",
    "import getpass\n",
    "import tiktoken\n",
    "import openai\n",
    "import chainlit as cl"
   ]
  },
  {
   "cell_type": "code",
   "execution_count": 3,
   "metadata": {},
   "outputs": [],
   "source": [
    "AZURE_API_KEY = getpass.getpass(\"Enter Azure API Key: \")\n",
    "AZURE_API_BASE = getpass.getpass(\"Enter Azure Base URL: \")\n",
    "AZURE_API_VERSION = getpass.getpass(\"Enter Azure API version: \")"
   ]
  },
  {
   "cell_type": "markdown",
   "metadata": {},
   "source": [
    "### 1. ChainLit ChatGPT Clone\n",
    "\n",
    "- see `LLM Concepts/Langchain Tutorials/chatgpt_clone`\n"
   ]
  },
  {
   "cell_type": "markdown",
   "metadata": {},
   "source": [
    "### 2. Building a Doc QnA System\n",
    "\n",
    "![](https://imgur.com/5EL92Tx.png)"
   ]
  },
  {
   "cell_type": "markdown",
   "metadata": {},
   "source": [
    "#### Some experiments with `chromadb`"
   ]
  },
  {
   "cell_type": "code",
   "execution_count": 6,
   "metadata": {},
   "outputs": [],
   "source": [
    "import chromadb"
   ]
  },
  {
   "cell_type": "code",
   "execution_count": 7,
   "metadata": {},
   "outputs": [
    {
     "name": "stdout",
     "output_type": "stream",
     "text": [
      "2023-09-16 13:28:46 - Anonymized telemetry enabled. See https://docs.trychroma.com/telemetry for more information.\n"
     ]
    }
   ],
   "source": [
    "chroma_client = chromadb.Client()"
   ]
  },
  {
   "cell_type": "code",
   "execution_count": 8,
   "metadata": {},
   "outputs": [],
   "source": [
    "collections = chroma_client.create_collection(name=\"my_collection\")"
   ]
  },
  {
   "cell_type": "code",
   "execution_count": 9,
   "metadata": {},
   "outputs": [
    {
     "name": "stderr",
     "output_type": "stream",
     "text": [
      "/Users/shaunaksen/.cache/chroma/onnx_models/all-MiniLM-L6-v2/onnx.tar.gz: 100%|██████████| 79.3M/79.3M [01:18<00:00, 1.06MiB/s]\n"
     ]
    }
   ],
   "source": [
    "collections.add(\n",
    "    documents=[\"my name is mini\", \"I am 28 years old\", \"I like to eat paneer\"], # list of actual docs\n",
    "    metadatas=[{\"source\": \"name\"}, {\"source\": \"age\"}, {\"source\": \"food\"}], # metadata of each doc; one use case is we can o/p the source for each doc\n",
    "    ids=[\"id1\", \"id2\", \"id3\"]\n",
    ")"
   ]
  },
  {
   "cell_type": "code",
   "execution_count": 10,
   "metadata": {},
   "outputs": [
    {
     "data": {
      "text/plain": [
       "Collection(name=my_collection)"
      ]
     },
     "execution_count": 10,
     "metadata": {},
     "output_type": "execute_result"
    }
   ],
   "source": [
    "collections"
   ]
  },
  {
   "cell_type": "code",
   "execution_count": 15,
   "metadata": {},
   "outputs": [],
   "source": [
    "results = collections.query(\n",
    "    query_texts=[\"what is my favorite dish?\"],\n",
    "    n_results=1\n",
    ")"
   ]
  },
  {
   "cell_type": "code",
   "execution_count": 16,
   "metadata": {},
   "outputs": [
    {
     "data": {
      "text/plain": [
       "{'ids': [['id3']],\n",
       " 'distances': [[1.0386817455291748]],\n",
       " 'metadatas': [[{'source': 'food'}]],\n",
       " 'embeddings': None,\n",
       " 'documents': [['I like to eat paneer']]}"
      ]
     },
     "execution_count": 16,
     "metadata": {},
     "output_type": "execute_result"
    }
   ],
   "source": [
    "results"
   ]
  },
  {
   "cell_type": "code",
   "execution_count": null,
   "metadata": {},
   "outputs": [],
   "source": []
  }
 ],
 "metadata": {
  "kernelspec": {
   "display_name": "shaunak_llm",
   "language": "python",
   "name": "python3"
  },
  "language_info": {
   "codemirror_mode": {
    "name": "ipython",
    "version": 3
   },
   "file_extension": ".py",
   "mimetype": "text/x-python",
   "name": "python",
   "nbconvert_exporter": "python",
   "pygments_lexer": "ipython3",
   "version": "3.10.10"
  },
  "orig_nbformat": 4
 },
 "nbformat": 4,
 "nbformat_minor": 2
}
