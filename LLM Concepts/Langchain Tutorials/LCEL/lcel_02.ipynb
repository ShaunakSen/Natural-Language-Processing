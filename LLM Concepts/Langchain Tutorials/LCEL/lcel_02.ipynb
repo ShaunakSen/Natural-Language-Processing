{
 "cells": [
  {
   "cell_type": "markdown",
   "metadata": {},
   "source": [
    "## LCEL \n",
    "\n",
    "> https://www.youtube.com/watch?v=8aUYzb1aYDU\n",
    "\n",
    "---"
   ]
  },
  {
   "cell_type": "code",
   "execution_count": 16,
   "metadata": {},
   "outputs": [],
   "source": [
    "import os\n",
    "from langchain_groq import ChatGroq\n",
    "from langchain.prompts import PromptTemplate\n",
    "from langchain import LLMChain\n",
    "from langchain_core.output_parsers import StrOutputParser"
   ]
  },
  {
   "cell_type": "code",
   "execution_count": 3,
   "metadata": {},
   "outputs": [],
   "source": [
    "GROQ_API_KEY = \"\"\n",
    "os.environ['GROQ_API_KEY'] = GROQ_API_KEY"
   ]
  },
  {
   "cell_type": "code",
   "execution_count": 5,
   "metadata": {},
   "outputs": [],
   "source": [
    "llm = ChatGroq(\n",
    "    model=\"mixtral-8x7b-32768\",\n",
    "    temperature=0,\n",
    "    max_tokens=None,\n",
    "    timeout=None,\n",
    "    max_retries=2,\n",
    "    # other params...\n",
    ")"
   ]
  },
  {
   "cell_type": "code",
   "execution_count": 6,
   "metadata": {},
   "outputs": [
    {
     "data": {
      "text/plain": [
       "AIMessage(content='I love programming in French is: \"J\\'aime programmer.\"', additional_kwargs={}, response_metadata={'token_usage': {'completion_tokens': 16, 'prompt_tokens': 30, 'total_tokens': 46, 'completion_time': 0.024157488, 'prompt_time': 0.003244877, 'queue_time': 0.009945583, 'total_time': 0.027402365}, 'model_name': 'mixtral-8x7b-32768', 'system_fingerprint': 'fp_c5f20b5bb1', 'finish_reason': 'stop', 'logprobs': None}, id='run-55310e50-02c3-40b7-ba4e-64aecdd02aeb-0', usage_metadata={'input_tokens': 30, 'output_tokens': 16, 'total_tokens': 46})"
      ]
     },
     "execution_count": 6,
     "metadata": {},
     "output_type": "execute_result"
    }
   ],
   "source": [
    "messages = [\n",
    "    (\n",
    "        \"system\",\n",
    "        \"You are a helpful assistant that translates English to French. Translate the user sentence.\",\n",
    "    ),\n",
    "    (\"human\", \"I love programming.\"),\n",
    "]\n",
    "ai_msg = llm.invoke(messages)\n",
    "ai_msg"
   ]
  },
  {
   "cell_type": "markdown",
   "metadata": {},
   "source": [
    "### Simple chains using LCEL"
   ]
  },
  {
   "cell_type": "code",
   "execution_count": 10,
   "metadata": {},
   "outputs": [
    {
     "name": "stdout",
     "output_type": "stream",
     "text": [
      "input_variables=['skill'] input_types={} partial_variables={} template='Hi! I am learning {skill}. Can you help point me to top 5 courses for it.'\n"
     ]
    }
   ],
   "source": [
    "template = \"Hi! I am learning {skill}. Can you help point me to top 5 courses for it.\"\n",
    "prompt = PromptTemplate(template=template, input_variables=['skill'])\n",
    "print (prompt)"
   ]
  },
  {
   "cell_type": "code",
   "execution_count": 11,
   "metadata": {},
   "outputs": [
    {
     "name": "stderr",
     "output_type": "stream",
     "text": [
      "/var/folders/9g/tslm33j92p1blxwl8vvjxn1r0000gn/T/ipykernel_18185/4035131671.py:1: LangChainDeprecationWarning: The class `LLMChain` was deprecated in LangChain 0.1.17 and will be removed in 1.0. Use :meth:`~RunnableSequence, e.g., `prompt | llm`` instead.\n",
      "  llm_chain = LLMChain(prompt=prompt, llm=llm)\n"
     ]
    }
   ],
   "source": [
    "llm_chain = LLMChain(prompt=prompt, llm=llm)"
   ]
  },
  {
   "cell_type": "code",
   "execution_count": 14,
   "metadata": {},
   "outputs": [
    {
     "name": "stdout",
     "output_type": "stream",
     "text": [
      "Hello! I'd be happy to help you find some top-notch video editing courses. Here are five courses that I highly recommend:\n",
      "\n",
      "1. Adobe Premiere Pro Masterclass: Learn Video Editing in Premiere Pro - This course is great for beginners who want to learn Adobe Premiere Pro, one of the most popular video editing software. It covers all the basics and advanced techniques you need to know to create professional-looking videos.\n",
      "2. Video Editing with Adobe Premiere Pro for Beginners: Start Editing Video Like a Pro - This course is another excellent option for beginners who want to learn Adobe Premiere Pro. It covers the fundamentals of video editing, including cutting, transitions, and color correction.\n",
      "3. Final Cut Pro X: Video Editing Masterclass - If you're a Mac user, this course is an excellent choice for learning Final Cut Pro X, another popular video editing software. It covers everything from basic editing techniques to advanced color grading and audio mixing.\n",
      "4. Video Editing in DaVinci Resolve 17: The Complete Course - DaVinci Resolve is a powerful and free video editing software that's gaining popularity among professionals. This course covers all the basics and advanced techniques you need to know to edit videos like a pro.\n",
      "5. After Effects for Video Editors - This course is perfect for video editors who want to take their skills to the next level by learning motion graphics and visual effects. It covers the basics of Adobe After Effects, a popular software for creating animations and visual effects.\n",
      "\n",
      "These courses are all highly rated and taught by experienced instructors. They cover a range of topics and software, so you can choose the one that best fits your needs and goals. Good luck with your video editing journey!\n"
     ]
    }
   ],
   "source": [
    "print (llm_chain.run({\"skill\": \"Video editing\"}))"
   ]
  },
  {
   "cell_type": "code",
   "execution_count": 19,
   "metadata": {},
   "outputs": [
    {
     "name": "stdout",
     "output_type": "stream",
     "text": [
      "Hello! I'm glad to hear that you're interested in machine learning engineering. Here are five top courses that can help you get started:\n",
      "\n",
      "1. Machine Learning Engineering on Coursera: This course is offered by the University of Washington and covers the entire machine learning engineering pipeline, from data preparation to model deployment. It includes hands-on projects and is a great way to get started with machine learning engineering.\n",
      "2. Machine Learning on edX: This course is offered by MIT and covers the fundamentals of machine learning, including supervised and unsupervised learning, linear models, and neural networks. It's a great course for those who want to build a strong foundation in machine learning before diving into engineering.\n",
      "3. Deep Learning Specialization on Coursera: This is a five-course specialization offered by Andrew Ng, a pioneer in the field of deep learning. The courses cover neural networks, deep learning, structuring machine learning projects, convolutional neural networks, and sequence models.\n",
      "4. Machine Learning Engineering on Udacity: This course is offered by Udacity and covers the entire machine learning engineering pipeline, including data preprocessing, model training, model evaluation, and model deployment. It includes hands-on projects and is a great way to learn machine learning engineering in a practical setting.\n",
      "5. Applied Machine Learning on DataCamp: This course covers the practical aspects of machine learning, including data preprocessing, feature engineering, model training, and model evaluation. It includes hands-on projects and is a great way to learn machine learning engineering in a hands-on setting.\n",
      "\n",
      "I hope these courses help you on your journey to becoming a machine learning engineer!\n"
     ]
    }
   ],
   "source": [
    "chain = prompt | llm | StrOutputParser()\n",
    "\n",
    "print (chain.invoke({\"skill\": \"ML Engineering\"}))"
   ]
  },
  {
   "cell_type": "markdown",
   "metadata": {},
   "source": [
    "### Runnables"
   ]
  },
  {
   "cell_type": "code",
   "execution_count": null,
   "metadata": {},
   "outputs": [],
   "source": []
  }
 ],
 "metadata": {
  "kernelspec": {
   "display_name": "poetry-env",
   "language": "python",
   "name": "python3"
  },
  "language_info": {
   "codemirror_mode": {
    "name": "ipython",
    "version": 3
   },
   "file_extension": ".py",
   "mimetype": "text/x-python",
   "name": "python",
   "nbconvert_exporter": "python",
   "pygments_lexer": "ipython3",
   "version": "3.12.4"
  }
 },
 "nbformat": 4,
 "nbformat_minor": 2
}
