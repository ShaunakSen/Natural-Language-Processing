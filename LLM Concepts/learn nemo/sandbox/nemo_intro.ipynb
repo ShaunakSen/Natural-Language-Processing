{
 "cells": [
  {
   "cell_type": "code",
   "execution_count": 1,
   "metadata": {},
   "outputs": [],
   "source": [
    "import os\n",
    "import sys\n",
    "from dotenv import load_dotenv\n",
    "from langchain_openai import AzureOpenAI, AzureChatOpenAI, AzureOpenAIEmbeddings"
   ]
  },
  {
   "cell_type": "code",
   "execution_count": 2,
   "metadata": {},
   "outputs": [
    {
     "data": {
      "text/plain": [
       "True"
      ]
     },
     "execution_count": 2,
     "metadata": {},
     "output_type": "execute_result"
    }
   ],
   "source": [
    "load_dotenv(\"/Users/shaunaksen/Documents/personal-projects/Natural-Language-Processing/LLM Concepts/llamaindex_tutorials/knowledge_graphs/.env\")"
   ]
  },
  {
   "cell_type": "code",
   "execution_count": 3,
   "metadata": {},
   "outputs": [],
   "source": [
    "# print (os.environ['AZURE_API_KEY'])"
   ]
  },
  {
   "cell_type": "code",
   "execution_count": 4,
   "metadata": {},
   "outputs": [
    {
     "name": "stdout",
     "output_type": "stream",
     "text": [
      "['/Users/shaunaksen/Documents/personal-projects/Natural-Language-Processing/LLM Concepts/learn nemo/sandbox', '/Users/shaunaksen/Documents/zscaler-dev/datasci/llm_as_a_service/llamaas/orchestrator/knowledge_graph/src', '/Users/shaunaksen/Documents/zscaler-dev/datasci/llm_as_a_service/llamaas/orchestrator/knowledge_graph', '/Users/shaunaksen/Documents/zscaler-dev/dataeng', '/Users/shaunaksen/Documents/zscaler-dev/dataeng/policy_recommendation_zpa', '/Users/shaunaksen/Documents/zscaler-dev/datasci', '/Users/shaunaksen/Documents/zscaler-dev/datasci/llm_as_a_service', '/Users/shaunaksen/Documents/zscaler-dev/datasci/ai_ops', '/Users/shaunaksen/miniconda3/envs/shaunak_llm/lib/python310.zip', '/Users/shaunaksen/miniconda3/envs/shaunak_llm/lib/python3.10', '/Users/shaunaksen/miniconda3/envs/shaunak_llm/lib/python3.10/lib-dynload', '', '/Users/shaunaksen/miniconda3/envs/shaunak_llm/lib/python3.10/site-packages']\n"
     ]
    }
   ],
   "source": [
    "print (sys.path)"
   ]
  },
  {
   "cell_type": "code",
   "execution_count": 5,
   "metadata": {},
   "outputs": [
    {
     "name": "stderr",
     "output_type": "stream",
     "text": [
      "/Users/shaunaksen/miniconda3/envs/shaunak_llm/lib/python3.10/site-packages/langchain_community/llms/__init__.py:166: LangChainDeprecationWarning: `` was deprecated in LangChain 0.0.22 and will be removed in 0.2. An updated version of the  exists in the langchain-community package and should be used instead. To use it run `pip install -U langchain-community` and import as `from langchain_community.chat_models import ChatDatabricks`.\n",
      "  warn_deprecated(\n",
      "/Users/shaunaksen/miniconda3/envs/shaunak_llm/lib/python3.10/site-packages/langchain_community/llms/__init__.py:323: LangChainDeprecationWarning: `` was deprecated in LangChain 0.0.22 and will be removed in 0.2. An updated version of the  exists in the langchain-community package and should be used instead. To use it run `pip install -U langchain-community` and import as `from langchain_community.chat_models import ChatMlflow`.\n",
      "  warn_deprecated(\n"
     ]
    }
   ],
   "source": [
    "from nemoguardrails import LLMRails, RailsConfig"
   ]
  },
  {
   "cell_type": "code",
   "execution_count": 6,
   "metadata": {},
   "outputs": [],
   "source": [
    "gpt4_turbo = AzureOpenAI(\n",
    "        deployment_name=\"gpt-4-turbo-0125\",\n",
    "        model=\"gpt-4\",\n",
    "        openai_api_type=\"azure\",\n",
    "        azure_endpoint=\"https://ml-dev.openai.azure.com\",\n",
    "        openai_api_key=os.environ['AZURE_API_KEY'],\n",
    "        openai_api_version=\"2023-03-15-preview\",\n",
    "        max_retries=2,\n",
    "        temperature=0,\n",
    "    )\n",
    "\n",
    "chat_gpt4 =AzureOpenAI(\n",
    "        deployment_name=\"gpt-4-32k\",\n",
    "        model=\"gpt-4-32k\",\n",
    "        openai_api_type=\"azure\",\n",
    "        azure_endpoint=\"https://ml-dev.openai.azure.com\",\n",
    "        openai_api_key=os.environ['AZURE_API_KEY'],\n",
    "        openai_api_version=\"2023-03-15-preview\",\n",
    "        max_retries=2,\n",
    "        temperature=0,\n",
    "    )"
   ]
  },
  {
   "cell_type": "code",
   "execution_count": 7,
   "metadata": {},
   "outputs": [],
   "source": [
    "yaml_content = f\"\"\"\n",
    "instructions:\n",
    "- type: general\n",
    "  content: /\n",
    "    Below is a conversation between a personal shopping assistant and\n",
    "    a user.\n",
    "models:\n",
    "  - type: main\n",
    "    engine: azure\n",
    "    model: gpt-4\n",
    "    parameters:\n",
    "      openai_api_version: '2023-03-15-preview'\n",
    "      azure_endpoint: \"https://ml-dev.openai.azure.com\"\n",
    "      deployment_name: gpt-4-turbo-0125\n",
    "      api_key: \"{os.environ['AZURE_API_KEY']}\"\n",
    "      temperature: 0\n",
    "\n",
    "\"\"\""
   ]
  },
  {
   "cell_type": "code",
   "execution_count": 8,
   "metadata": {},
   "outputs": [],
   "source": [
    "colang_content = \"\"\"\n",
    "# define niceties\n",
    "define user express greeting\n",
    "    \"hello\"\n",
    "    \"hi\"\n",
    "    \"what's up?\"\n",
    "\n",
    "define bot express greeting\n",
    "    \"Hey there!\"\n",
    "\n",
    "define bot ask how are you\n",
    "    \"How are you doing?\"\n",
    "    \"How's it going?\"\n",
    "    \"How are you feeling today?\"\n",
    "\n",
    "define bot offer help\n",
    "    \"How can i help you today?\"\n",
    "    \"Is there anything else I can help you with?\"\n",
    "\n",
    "define flow greeting\n",
    "    user express greeting\n",
    "    bot express greeting\n",
    "    bot ask how are you\n",
    "\n",
    "# define limits\n",
    "define user ask politics\n",
    "    \"what are your political beliefs?\"\n",
    "    \"thoughts on the president?\"\n",
    "    \"left wing\"\n",
    "    \"right wing\"\n",
    "\n",
    "define bot answer politics\n",
    "    \"I'm a shopping assistant, I don't like to talk of politics.\"\n",
    "\n",
    "define flow politics\n",
    "    user ask politics\n",
    "    bot answer politics\n",
    "    bot offer help\n",
    "\"\"\""
   ]
  },
  {
   "cell_type": "code",
   "execution_count": 9,
   "metadata": {},
   "outputs": [],
   "source": [
    "# initialize rails config\n",
    "config = RailsConfig.from_content(\n",
    "    yaml_content=yaml_content,\n",
    "    colang_content=colang_content\n",
    ")"
   ]
  },
  {
   "cell_type": "code",
   "execution_count": 10,
   "metadata": {},
   "outputs": [],
   "source": [
    "# create rails\n",
    "rails = LLMRails(config, verbose=False)"
   ]
  },
  {
   "cell_type": "code",
   "execution_count": 11,
   "metadata": {},
   "outputs": [
    {
     "name": "stderr",
     "output_type": "stream",
     "text": [
      "huggingface/tokenizers: The current process just got forked, after parallelism has already been used. Disabling parallelism to avoid deadlocks...\n",
      "To disable this warning, you can either:\n",
      "\t- Avoid using `tokenizers` before the fork if possible\n",
      "\t- Explicitly set the environment variable TOKENIZERS_PARALLELISM=(true | false)\n"
     ]
    }
   ],
   "source": [
    "res = await rails.generate_async(\n",
    "    prompt=\"Hey there!\",\n",
    ")"
   ]
  },
  {
   "cell_type": "code",
   "execution_count": 12,
   "metadata": {},
   "outputs": [
    {
     "name": "stdout",
     "output_type": "stream",
     "text": [
      "Hey there!\n",
      "How's it going?\n"
     ]
    }
   ],
   "source": [
    "print (res)"
   ]
  },
  {
   "cell_type": "code",
   "execution_count": null,
   "metadata": {},
   "outputs": [],
   "source": []
  }
 ],
 "metadata": {
  "kernelspec": {
   "display_name": "shaunak_llm",
   "language": "python",
   "name": "python3"
  },
  "language_info": {
   "codemirror_mode": {
    "name": "ipython",
    "version": 3
   },
   "file_extension": ".py",
   "mimetype": "text/x-python",
   "name": "python",
   "nbconvert_exporter": "python",
   "pygments_lexer": "ipython3",
   "version": "3.10.10"
  }
 },
 "nbformat": 4,
 "nbformat_minor": 2
}
