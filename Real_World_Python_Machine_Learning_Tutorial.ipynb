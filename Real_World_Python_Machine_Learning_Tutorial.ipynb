{
  "nbformat": 4,
  "nbformat_minor": 0,
  "metadata": {
    "colab": {
      "name": "Real-World Python Machine Learning Tutorial.ipynb",
      "provenance": [],
      "collapsed_sections": [],
      "authorship_tag": "ABX9TyM92BIqMECoGxoZfvXI8SQ3",
      "include_colab_link": true
    },
    "kernelspec": {
      "name": "python3",
      "display_name": "Python 3"
    }
  },
  "cells": [
    {
      "cell_type": "markdown",
      "metadata": {
        "id": "view-in-github",
        "colab_type": "text"
      },
      "source": [
        "<a href=\"https://colab.research.google.com/github/ShaunakSen/Natural-Language-Processing/blob/master/Real_World_Python_Machine_Learning_Tutorial.ipynb\" target=\"_parent\"><img src=\"https://colab.research.google.com/assets/colab-badge.svg\" alt=\"Open In Colab\"/></a>"
      ]
    },
    {
      "cell_type": "markdown",
      "metadata": {
        "id": "Qm4Hfva_O8kk",
        "colab_type": "text"
      },
      "source": [
        "## Real-World Python Machine Learning Tutorial\n",
        "\n",
        "> Based on the YouTube tutorial by Keith Galli: link: https://www.youtube.com/watch?v=M9Itm95JzL0\n",
        "\n",
        "---\n",
        "\n"
      ]
    },
    {
      "cell_type": "code",
      "metadata": {
        "id": "2sweCnrJP_L5",
        "colab_type": "code",
        "colab": {}
      },
      "source": [
        "!pip install rich"
      ],
      "execution_count": 0,
      "outputs": []
    },
    {
      "cell_type": "code",
      "metadata": {
        "id": "fmZpAdx0N6YD",
        "colab_type": "code",
        "colab": {}
      },
      "source": [
        "import json\n",
        "import numpy as np\n",
        "import pandas as pd\n",
        "from rich import print as r_print\n",
        "from sklearn.model_selection import train_test_split\n",
        "from sklearn.feature_extraction.text import CountVectorizer\n",
        "from sklearn import svm"
      ],
      "execution_count": 0,
      "outputs": []
    },
    {
      "cell_type": "code",
      "metadata": {
        "id": "LnL4TReSRzb_",
        "colab_type": "code",
        "colab": {}
      },
      "source": [
        "class Sentiment:\n",
        "    NEGATIVE = 'NEGATIVE'\n",
        "    NEUTRAL = 'NEUTRAL'\n",
        "    POSITIVE = 'POSITIVE'\n",
        "\n",
        "\n",
        "class Review:\n",
        "    def __init__(self, text, score):\n",
        "        self.text = text\n",
        "        self.score = score\n",
        "        self.sentiment = self.get_sentiment()\n",
        "    \n",
        "    def get_sentiment(self):\n",
        "        if self.score <= 2:\n",
        "            return Sentiment.NEGATIVE\n",
        "        elif self.score == 3:\n",
        "            return Sentiment.NEUTRAL\n",
        "        else:\n",
        "            return Sentiment.POSITIVE"
      ],
      "execution_count": 0,
      "outputs": []
    },
    {
      "cell_type": "code",
      "metadata": {
        "id": "Hq8kYyjQPv5z",
        "colab_type": "code",
        "colab": {
          "base_uri": "https://localhost:8080/",
          "height": 35
        },
        "outputId": "7db565c4-a1b5-4c6d-9e24-4257616cc1f4"
      },
      "source": [
        "file_name = './Books_small.json'\n",
        "\n",
        "reviews = [] # [review_obj1, review_obj2, ...]\n",
        "\n",
        "# read the data and append to list\n",
        "with open(file_name) as f:\n",
        "    for line in f:\n",
        "        review = json.loads(line)\n",
        "        # create a Review obj\n",
        "        review_obj = Review(text=review['reviewText'], score=review['overall'])\n",
        "        reviews.append(review_obj)\n",
        "\n",
        "r_print (reviews[0].sentiment)"
      ],
      "execution_count": 11,
      "outputs": [
        {
          "output_type": "stream",
          "text": [
            "POSITIVE\n"
          ],
          "name": "stdout"
        }
      ]
    },
    {
      "cell_type": "code",
      "metadata": {
        "id": "i1GYREU8Zo7X",
        "colab_type": "code",
        "colab": {
          "base_uri": "https://localhost:8080/",
          "height": 35
        },
        "outputId": "43ebf5d2-33f7-4187-8c78-fbf5e4c9f4bf"
      },
      "source": [
        "print (f'Number of reviews: {len(reviews)}')"
      ],
      "execution_count": 12,
      "outputs": [
        {
          "output_type": "stream",
          "text": [
            "Number of reviews: 1000\n"
          ],
          "name": "stdout"
        }
      ]
    },
    {
      "cell_type": "markdown",
      "metadata": {
        "id": "PmJO2o9NTxPJ",
        "colab_type": "text"
      },
      "source": [
        "### Bag of words\n",
        "\n",
        "ML models work really well with numeric data and not so well with text data\n",
        "\n",
        "So we need a method to convert text to vectors\n",
        "\n",
        "![](https://i.ibb.co/V3ycp0n/diag1.png)\n",
        "\n",
        "The first 2 sentences are the training set and the last one is the test set\n",
        "\n",
        "Note: In the test set there are words like 'a' and 'very' that are not there in the training data\n",
        "\n",
        "So we simply ignore them\n",
        "\n",
        "### Split the data"
      ]
    },
    {
      "cell_type": "code",
      "metadata": {
        "id": "uzBdjKDAQODW",
        "colab_type": "code",
        "colab": {
          "base_uri": "https://localhost:8080/",
          "height": 54
        },
        "outputId": "c487b973-6d23-4ed8-f6a8-3b8a9e32ffd9"
      },
      "source": [
        "training, test = train_test_split(reviews, test_size=0.33, random_state=42)\n",
        "\n",
        "print (len(training))\n",
        "\n",
        "print (training[0].text, training[0].sentiment)"
      ],
      "execution_count": 18,
      "outputs": [
        {
          "output_type": "stream",
          "text": [
            "670\n",
            "Vivid characters and descriptions. The author has created a tale that grabs your attention and I couldn't put it down. POSITIVE\n"
          ],
          "name": "stdout"
        }
      ]
    },
    {
      "cell_type": "markdown",
      "metadata": {
        "id": "RG3HCPMoat5m",
        "colab_type": "text"
      },
      "source": [
        "Now we split the training and test data into X and y (inputs and ops):"
      ]
    },
    {
      "cell_type": "code",
      "metadata": {
        "id": "DrNIb1UKabkq",
        "colab_type": "code",
        "colab": {
          "base_uri": "https://localhost:8080/",
          "height": 55
        },
        "outputId": "f2208181-413a-4c63-8b15-3e5218cc7fed"
      },
      "source": [
        "train_X = [train_.text for train_ in training]\n",
        "train_y = [train_.sentiment for train_ in training]\n",
        "\n",
        "test_X = [test_.text for test_ in test]\n",
        "test_y = [test_.sentiment for test_ in test]\n",
        "\n",
        "print (train_X[0], train_y[0], test_X[0], test_y[0])"
      ],
      "execution_count": 20,
      "outputs": [
        {
          "output_type": "stream",
          "text": [
            "Vivid characters and descriptions. The author has created a tale that grabs your attention and I couldn't put it down. POSITIVE Every new Myke Cole book is better than the last, and this is no exception. If you haven't read the Shadow Ops series before start with Control Point, but go ahead and order Fortress Frontier and Breach Zone as well - you're going to want them. POSITIVE\n"
          ],
          "name": "stdout"
        }
      ]
    },
    {
      "cell_type": "code",
      "metadata": {
        "id": "alcs8PdkbTX0",
        "colab_type": "code",
        "colab": {
          "base_uri": "https://localhost:8080/",
          "height": 35
        },
        "outputId": "21340564-a89c-4056-a020-67015559cf64"
      },
      "source": [
        "vectorizer = CountVectorizer()\n",
        "train_X_vectors = vectorizer.fit_transform(train_X)\n",
        "\n",
        "print (train_X_vectors.shape)"
      ],
      "execution_count": 22,
      "outputs": [
        {
          "output_type": "stream",
          "text": [
            "(670, 7372)\n"
          ],
          "name": "stdout"
        }
      ]
    },
    {
      "cell_type": "code",
      "metadata": {
        "id": "GB4wmOG_sNDX",
        "colab_type": "code",
        "colab": {
          "base_uri": "https://localhost:8080/",
          "height": 35
        },
        "outputId": "330c4c41-c23f-4790-f3d7-179081d9928a"
      },
      "source": [
        "print (vectorizer.get_feature_names()[350])"
      ],
      "execution_count": 28,
      "outputs": [
        {
          "output_type": "stream",
          "text": [
            "and\n"
          ],
          "name": "stdout"
        }
      ]
    },
    {
      "cell_type": "code",
      "metadata": {
        "id": "wBIPl1L7ro1s",
        "colab_type": "code",
        "colab": {
          "base_uri": "https://localhost:8080/",
          "height": 326
        },
        "outputId": "2269bd5c-6f36-4822-87c5-213e77bc25f7"
      },
      "source": [
        "print (train_X_vectors[0])"
      ],
      "execution_count": 23,
      "outputs": [
        {
          "output_type": "stream",
          "text": [
            "  (0, 7086)\t1\n",
            "  (0, 1148)\t1\n",
            "  (0, 350)\t2\n",
            "  (0, 1800)\t1\n",
            "  (0, 6595)\t1\n",
            "  (0, 562)\t1\n",
            "  (0, 3054)\t1\n",
            "  (0, 1558)\t1\n",
            "  (0, 6475)\t1\n",
            "  (0, 6593)\t1\n",
            "  (0, 2895)\t1\n",
            "  (0, 7353)\t1\n",
            "  (0, 539)\t1\n",
            "  (0, 1515)\t1\n",
            "  (0, 5197)\t1\n",
            "  (0, 3545)\t1\n",
            "  (0, 2007)\t1\n"
          ],
          "name": "stdout"
        }
      ]
    },
    {
      "cell_type": "markdown",
      "metadata": {
        "id": "5f4OX8p2rwv0",
        "colab_type": "text"
      },
      "source": [
        "This is basically like a sparse matrix\n",
        "\n",
        "It only prints the positions of the non-zero elements\n",
        "\n",
        "We can see that for the first review the word at idx 350 occurs twice nad this is the word 'and' and it does indeed occur twice in the review\n"
      ]
    },
    {
      "cell_type": "code",
      "metadata": {
        "id": "Tc506zcLruc5",
        "colab_type": "code",
        "colab": {
          "base_uri": "https://localhost:8080/",
          "height": 35
        },
        "outputId": "32e20115-a93f-4087-ed8c-89484ae20ee1"
      },
      "source": [
        "print (train_X[0])"
      ],
      "execution_count": 26,
      "outputs": [
        {
          "output_type": "stream",
          "text": [
            "(1, 7372) Vivid characters and descriptions. The author has created a tale that grabs your attention and I couldn't put it down.\n"
          ],
          "name": "stdout"
        }
      ]
    },
    {
      "cell_type": "markdown",
      "metadata": {
        "id": "PkbDalw7v0s1",
        "colab_type": "text"
      },
      "source": [
        "Now we transfor the test data using the same fitted model"
      ]
    },
    {
      "cell_type": "code",
      "metadata": {
        "id": "ltKxToUSv3th",
        "colab_type": "code",
        "colab": {
          "base_uri": "https://localhost:8080/",
          "height": 35
        },
        "outputId": "ce5aa6b6-da06-4797-f99e-094331033eaa"
      },
      "source": [
        "test_X_vectors = vectorizer.transform(test_X)\n",
        "\n",
        "print (test_X_vectors.shape)"
      ],
      "execution_count": 29,
      "outputs": [
        {
          "output_type": "stream",
          "text": [
            "(330, 7372)\n"
          ],
          "name": "stdout"
        }
      ]
    },
    {
      "cell_type": "markdown",
      "metadata": {
        "id": "ybsZtu7ewaWr",
        "colab_type": "text"
      },
      "source": [
        "Now our final data is `train_X_vectors, train_y` and `test_X_vectors, test_y` and we want to create our model for this data\n",
        "\n",
        "### Classification \n",
        "\n",
        "\n",
        "#### Linear SVM"
      ]
    },
    {
      "cell_type": "code",
      "metadata": {
        "id": "WYkX0cCowYxS",
        "colab_type": "code",
        "colab": {}
      },
      "source": [
        "clf_svm = svm.SVC(kernel='linear')"
      ],
      "execution_count": 0,
      "outputs": []
    },
    {
      "cell_type": "code",
      "metadata": {
        "id": "jRbHZD3txUxP",
        "colab_type": "code",
        "colab": {
          "base_uri": "https://localhost:8080/",
          "height": 90
        },
        "outputId": "892910c1-5d6b-4da3-c656-4e73cf088ed5"
      },
      "source": [
        "clf_svm.fit(train_X_vectors, train_y)"
      ],
      "execution_count": 34,
      "outputs": [
        {
          "output_type": "execute_result",
          "data": {
            "text/plain": [
              "SVC(C=1.0, break_ties=False, cache_size=200, class_weight=None, coef0=0.0,\n",
              "    decision_function_shape='ovr', degree=3, gamma='scale', kernel='linear',\n",
              "    max_iter=-1, probability=False, random_state=None, shrinking=True,\n",
              "    tol=0.001, verbose=False)"
            ]
          },
          "metadata": {
            "tags": []
          },
          "execution_count": 34
        }
      ]
    },
    {
      "cell_type": "code",
      "metadata": {
        "id": "1vlNDdEQxhgv",
        "colab_type": "code",
        "colab": {
          "base_uri": "https://localhost:8080/",
          "height": 74
        },
        "outputId": "7d99b240-212c-43e9-db5b-2d76c33f7ef3"
      },
      "source": [
        "test_X[0], test_y[0]"
      ],
      "execution_count": 36,
      "outputs": [
        {
          "output_type": "execute_result",
          "data": {
            "text/plain": [
              "(\"Every new Myke Cole book is better than the last, and this is no exception. If you haven't read the Shadow Ops series before start with Control Point, but go ahead and order Fortress Frontier and Breach Zone as well - you're going to want them.\",\n",
              " 'POSITIVE')"
            ]
          },
          "metadata": {
            "tags": []
          },
          "execution_count": 36
        }
      ]
    },
    {
      "cell_type": "code",
      "metadata": {
        "id": "s_979BehyAZh",
        "colab_type": "code",
        "colab": {
          "base_uri": "https://localhost:8080/",
          "height": 35
        },
        "outputId": "0e893d89-50d7-46b5-86de-4cf0da2b7522"
      },
      "source": [
        "clf_svm.predict(test_X_vectors[0])"
      ],
      "execution_count": 37,
      "outputs": [
        {
          "output_type": "execute_result",
          "data": {
            "text/plain": [
              "array(['POSITIVE'], dtype='<U8')"
            ]
          },
          "metadata": {
            "tags": []
          },
          "execution_count": 37
        }
      ]
    },
    {
      "cell_type": "markdown",
      "metadata": {
        "id": "ZMW9NPTSyFxV",
        "colab_type": "text"
      },
      "source": [
        "So it predicts the first test review correctly"
      ]
    },
    {
      "cell_type": "code",
      "metadata": {
        "id": "MT4oKomTyDUA",
        "colab_type": "code",
        "colab": {}
      },
      "source": [
        ""
      ],
      "execution_count": 0,
      "outputs": []
    }
  ]
}