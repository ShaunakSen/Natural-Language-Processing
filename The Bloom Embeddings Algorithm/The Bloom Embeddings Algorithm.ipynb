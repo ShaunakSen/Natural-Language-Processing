{
 "cells": [
  {
   "cell_type": "markdown",
   "metadata": {},
   "source": [
    "## The Bloom Embeddings algorithm\n",
    "\n",
    "> Baised on this post by Matthew Honnibal: https://support.prodi.gy/t/can-you-explain-how-exactly-hashembed-works/564\n",
    "\n",
    "---\n",
    "\n",
    "A high-coverage word embedding table will usually be quite large.\n",
    "One million 32-bit floats occupies 4MB of memory, so one million\n",
    "300-dimensional vectors will be 1.2GB in size. The large model\n",
    "size is at least annoying for many applications, while for others\n",
    "it’s completely prohibitive.\n",
    "\n",
    "There are three obvious approaches to reducing the size of the embedding table:\n",
    "\n",
    "1. Reduce the number of words in the vocabulary. (obvious drawback; limits the scope of our prediction capabilities)\n",
    "2. Reduce the number of dimensions per vector. (might fail to understand deeper representations of words) eg: it might learn that King represenets some aspect of male but not royalty\n",
    "3. Reduce the number of bits per dimension. (maybe int instead of float)\n",
    "\n",
    "While all three of these options can be effective, there’s also a less\n",
    "obvious solution:\n",
    "\n",
    "4. Cheat, using a probabilistic data structure\n",
    "\n",
    "Probabilistic data structures are a natural fit for machine learning\n",
    "models, so they’re quite widely used. However, they’re definitely\n",
    "unintuitive — which is why we refer to this solution as a “cheat”.\n",
    "We’ll start by introducing the full algorithm, without dwelling too\n",
    "long on why it works. We’ll then go back and fill in more of the\n",
    "intuition, before finally connecting it to related ideas such as Bloom\n",
    "filters and the “hashing trick” that’s common in web-scale machine\n",
    "learning tasks such as advertising placement, information retrieval\n",
    "and content recommendation.\n"
   ]
  },
  {
   "cell_type": "markdown",
   "metadata": {},
   "source": [
    "### Bloom Filters explained?\n",
    "\n"
   ]
  },
  {
   "cell_type": "markdown",
   "metadata": {},
   "source": []
  },
  {
   "cell_type": "code",
   "execution_count": null,
   "metadata": {},
   "outputs": [],
   "source": []
  },
  {
   "cell_type": "code",
   "execution_count": null,
   "metadata": {},
   "outputs": [],
   "source": []
  },
  {
   "cell_type": "code",
   "execution_count": null,
   "metadata": {},
   "outputs": [],
   "source": []
  },
  {
   "cell_type": "code",
   "execution_count": null,
   "metadata": {},
   "outputs": [],
   "source": []
  },
  {
   "cell_type": "code",
   "execution_count": null,
   "metadata": {},
   "outputs": [],
   "source": []
  },
  {
   "cell_type": "code",
   "execution_count": null,
   "metadata": {},
   "outputs": [],
   "source": []
  },
  {
   "cell_type": "code",
   "execution_count": null,
   "metadata": {},
   "outputs": [],
   "source": []
  },
  {
   "cell_type": "code",
   "execution_count": null,
   "metadata": {},
   "outputs": [],
   "source": []
  },
  {
   "cell_type": "code",
   "execution_count": null,
   "metadata": {},
   "outputs": [],
   "source": []
  },
  {
   "cell_type": "code",
   "execution_count": null,
   "metadata": {},
   "outputs": [],
   "source": []
  },
  {
   "cell_type": "code",
   "execution_count": null,
   "metadata": {},
   "outputs": [],
   "source": []
  },
  {
   "cell_type": "code",
   "execution_count": null,
   "metadata": {},
   "outputs": [],
   "source": []
  },
  {
   "cell_type": "code",
   "execution_count": null,
   "metadata": {},
   "outputs": [],
   "source": []
  },
  {
   "cell_type": "code",
   "execution_count": null,
   "metadata": {},
   "outputs": [],
   "source": []
  }
 ],
 "metadata": {
  "kernelspec": {
   "display_name": "Python 3",
   "language": "python",
   "name": "python3"
  },
  "language_info": {
   "codemirror_mode": {
    "name": "ipython",
    "version": 3
   },
   "file_extension": ".py",
   "mimetype": "text/x-python",
   "name": "python",
   "nbconvert_exporter": "python",
   "pygments_lexer": "ipython3",
   "version": "3.7.4"
  }
 },
 "nbformat": 4,
 "nbformat_minor": 4
}
