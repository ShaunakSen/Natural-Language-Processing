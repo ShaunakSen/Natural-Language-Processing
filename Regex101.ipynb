{
  "nbformat": 4,
  "nbformat_minor": 0,
  "metadata": {
    "colab": {
      "name": "Regex101.ipynb",
      "provenance": [],
      "collapsed_sections": [],
      "toc_visible": true,
      "authorship_tag": "ABX9TyNZGQUuYTGVy1qsleRZ2c15",
      "include_colab_link": true
    },
    "kernelspec": {
      "name": "python3",
      "display_name": "Python 3"
    },
    "language_info": {
      "name": "python"
    }
  },
  "cells": [
    {
      "cell_type": "markdown",
      "metadata": {
        "id": "view-in-github",
        "colab_type": "text"
      },
      "source": [
        "<a href=\"https://colab.research.google.com/github/ShaunakSen/Natural-Language-Processing/blob/master/Regex101.ipynb\" target=\"_parent\"><img src=\"https://colab.research.google.com/assets/colab-badge.svg\" alt=\"Open In Colab\"/></a>"
      ]
    },
    {
      "cell_type": "markdown",
      "metadata": {
        "id": "YSlvqrVIRIbc"
      },
      "source": [
        "## Regular Expressions - Basics to Advanced\n",
        "\n",
        "> https://web.stanford.edu/~jurafsky/slp3/\n",
        "\n",
        "---\n",
        "\n",
        "\n",
        "\n",
        "\n"
      ]
    },
    {
      "cell_type": "markdown",
      "metadata": {
        "id": "Fw03siuRSOuP"
      },
      "source": [
        "### The need for regular expressions\n",
        "\n",
        "Regular expressions can be used to specify strings we might want to\n",
        "extract from a document, , from transforming “I need X” in Eliza above, to defining strings like $199 or $24.99 for extracting tables of prices from a document.\n",
        "\n",
        "#### Text normalization\n",
        "\n",
        "Normalizing text means converting it to a more convenient, standard form.\n",
        "\n",
        "1. __Tokenization__\n",
        "\n",
        "For example, most of what we are going to\n",
        "do with language relies on first separating out or tokenizing words from running\n",
        "tokenization text, the task of tokenization. English words are often separated from each other by whitespace, but whitespace is not always sufficient. \"New York\" and \"rock ’n’ roll\" are sometimes treated as large words despite the fact that they contain spaces, while sometimes we’ll need to separate \"I’m\" into the two words I and am. For processing tweets or texts we’ll need to tokenize emoticons like :) or hashtags like #nlproc. Some languages, like Japanese, don’t have spaces between words, so word tokenization becomes more difficult.\n",
        "\n",
        "2. __Lemmitization__:\n",
        "\n",
        "Another part of text normalization is lemmatization, the task of determining\n",
        "that two words have the same root, despite their surface differences. For example, the words sang, sung, and sings are forms of the verb sing. The word sing is the common lemma of these words, and a lemmatizer maps from all of these to sing.\n",
        "\n",
        "Lemmatization is essential for processing morphologically complex languages like\n",
        "stemming Arabic\n",
        "\n",
        "3. __Stemming__:\n",
        "\n",
        "Stemming refers to a simpler version of lemmatization in which we mainly\n",
        "just strip suffixes from the end of the word.\n",
        "\n",
        "4. __Sentence segmentation__:\n",
        "\n",
        "Text normalization also includes sentence segmentation: breaking up a text into individual sentences, using cues like sentence\n",
        "segmentation periods or exclamation points.\n",
        "\n",
        "Finally, we’ll need to compare words and other strings. We’ll introduce a metric\n",
        "called __edit distance__ that measures how similar two strings are based on the number\n",
        "of edits (insertions, deletions, substitutions) it takes to change one string into the\n",
        "other. Edit distance is an algorithm with applications throughout language processing, from spelling correction to speech recognition to coreference resolution.\n"
      ]
    },
    {
      "cell_type": "markdown",
      "metadata": {
        "id": "xdrYWLXrUgpL"
      },
      "source": [
        "### Basic Regex\n",
        "\n",
        "The simplest kind of regular expression is a sequence of simple characters. To search for woodchuck, we type /woodchuck/. The expression /Buttercup/ matches any string containing the substring Buttercup; grep with that expression would return the line I’m called little Buttercup. The search string can consist of a single character (like /!/) or a sequence of characters (like /urgl/).\n",
        "\n",
        "Regular expressions are case sensitive; lower case /s/ is distinct from upper\n",
        "case /S/ (/s/ matches a lower case s but not an upper case S). This means that\n",
        "the pattern /woodchucks/ will not match the string Woodchucks. We can solve this\n",
        "problem with the use of the square braces [ and ]. The string of characters inside the braces specifies a disjunction of characters to match\n",
        "\n",
        "For example, Fig. 2.2 shows\n",
        "that the pattern /[wW]/ matches patterns containing either w or W.\n",
        "\n",
        "![](https://i.imgur.com/E8CRgco.png)\n",
        "\n",
        "The square braces can also be used to specify what a single character cannot be,\n",
        "by use of the caret ˆ. If the caret ˆ is the __first symbol after the open square brace__ [, the resulting pattern is negated. For example, the pattern /[ˆa]/ matches any single character (including special characters) except a. \n",
        "\n",
        "This is only true when the caret is the first symbol after the open square brace. If it occurs anywhere else, it usually\n",
        "stands for a caret;\n",
        "\n",
        "![](https://i.imgur.com/i3WuhN8.png)\n",
        "\n",
        "How can we talk about optional elements, like an optional 's' in woodchuck and\n",
        "woodchucks? We can’t use the square brackets, because while they allow us to say\n",
        "“s or S”, they don’t allow us to say “s or nothing”. For this we use the question mark\n",
        "/?/, which means “the preceding character or nothing”,\n",
        "\n",
        "We can think of the question mark as meaning “zero or one instances of the\n",
        "previous character”. That is, it’s a way of specifying how many of something that we want, something that is very important in regular expressions. For example, consider the language of certain sheep, which consists of strings that look like the\n",
        "following:\n",
        "\n",
        "baa!\n",
        "baaa!\n",
        "baaaa!\n",
        "baaaaa!\n",
        "\n",
        "One solution : `/ba+!/`\n",
        "\n",
        "+ matches the previous token between one and unlimited times\n",
        "\n",
        "Another approach: This language consists of strings with a b, followed by at least two a’s, followed by an exclamation point. The set of operators that allows us to say things like “some Kleene * number of as” are based on the asterisk or *\n",
        "\n",
        "The Kleene star means “zero or more occurrences\n",
        "of the immediately previous character or regular expression”. So `/a*/` means “any\n",
        "string of zero or more as”\n",
        "This will match a or aaaaaa, but it will also match Off\n",
        "Minor since the string Off Minor has zero a’s. So the regular expression for matching\n",
        "one or more a is `/aa*/`, meaning one a followed by zero or more a's\n",
        "\n",
        "More complex\n",
        "patterns can also be repeated. So /[ab]*/ means “zero or more a’s __or__ b’s” (not\n",
        "“zero or more right square braces”). This will match strings like aaaa or ababab or\n",
        "bbbb..\n",
        "\n",
        "![](https://i.imgur.com/YcQmUJu.png)\n",
        "\n",
        "Here we matched any char in a-z followed by a group of 0 or more a or b\n",
        "\n",
        "For specifying multiple digits (useful for finding prices) we can extend /[0-9],\n",
        "the regular expression for a single digit. An integer (a string of digits) is thus /[0-9][0-9]*/. (Why isn’t it just /[0-9]*/?)\n",
        "\n",
        "- because /[0-9]*/ matches 0 or more occurances so even if we have something like \"abcd\" it will return a match\n",
        "\n",
        "![](https://i.imgur.com/CyaFc2u.png)\n",
        "- no match\n",
        "\n",
        "![](https://i.imgur.com/Rb8Jk3w.png)\n",
        "\n",
        "Sometimes it’s annoying to have to write the regular expression for digits twice, so there is a shorter way to specify “at least one” of some character. This is the Kleene + Kleene +, which means “one or more occurrences of the immediately preceding character or regular expression”. Thus, the expression /[0-9]+/ is the normal way to specify “a sequence of digits”. There are thus two ways to specify the sheep language: /baaa*!/ or /baa+!/.\n",
        "\n",
        "\n",
        "One very important special character is the period (/./), a wildcard expression\n",
        "that matches any single character (except a carriage return)\n",
        "\n",
        "![](https://i.imgur.com/fv6jBVR.png)\n",
        "\n",
        "This basically matches \"aardvark\" followed by 0 or more occurance of any character followed by \"aardvark\" again\n",
        "\n",
        "![](https://i.imgur.com/zJFxTbM.png)\n",
        "\n",
        "\n",
        "Anchors are special characters that anchor regular expressions to particular places in a string. The most common anchors are the caret ˆ and the dollar sign $. The caret ˆ matches the start of a line. The pattern /ˆThe/ matches the word The only at the start of the line. Thus, the caret ˆ has three uses\n",
        "\n",
        "1. to match the start of a line\n",
        "2. to indicate a negation inside of square brackets\n",
        "3. just to mean a caret\n",
        "\n",
        "The dollar sign $ matches the end of a line. So the pattern [space]$ is a useful\n",
        "pattern for matching a space at the end of a line\n",
        "\n",
        "/ˆThe dog\\.$/ matches a line that contains only the phrase The dog. (We have to use the backslash here since we want the . to mean “period” and not the wildcard.)\n",
        "\n",
        "![](https://i.imgur.com/wptmdwu.png)\n",
        "\n",
        "In the below example\n",
        "\n",
        "^The -> matches The at start -> space -> dog -> 0 or more chars -> end with a \".\"\n",
        "\n",
        "![](https://i.imgur.com/UkIPQGN.png)\n",
        "\n",
        "![](https://i.imgur.com/pK3ONe2.png)\n",
        "\n",
        "![](https://i.imgur.com/m00sE3h.png)\n",
        "\n",
        "![](https://i.imgur.com/o5LryyM.png)\n",
        "\n",
        "Example of a word boundary only on one side:\n",
        "\n",
        "![](https://i.imgur.com/jV6mgrw.png)\n",
        "\n",
        "See how \"the\" in \"ther\" is matched as we only required a boundary on the LHS\n",
        "\n"
      ]
    },
    {
      "cell_type": "markdown",
      "metadata": {
        "id": "Kv4McuhK-nqZ"
      },
      "source": [
        "### Disjunction, Grouping, and Precedence\n",
        "\n",
        "![](https://i.imgur.com/5bdTWJM.png)\n",
        "\n",
        "![](https://i.imgur.com/QnpLwCI.png)\n",
        "\n",
        "![](https://i.imgur.com/mk2r4w8.png)\n",
        "\n",
        "![](https://i.imgur.com/pXJXzID.png)\n",
        "\n",
        "![](https://i.imgur.com/kqdE3tS.png)\n",
        "\n",
        "\n",
        "\n",
        "\n",
        "Greedy search:\n",
        "\n",
        "![](https://i.imgur.com/zp1re7Q.png)\n",
        "\n",
        "`* matches the previous token between zero and unlimited times, as many times as possible, giving back as needed (greedy)`\n",
        "\n",
        "\n",
        "\n",
        "Matches :\n",
        "\n",
        "```\n",
        "once\n",
        "[space]\n",
        "upon\n",
        "[space]\n",
        "a\n",
        "[space]\n",
        "time\n",
        "```\n",
        "\n",
        "`*? matches the previous token between zero and unlimited times, as few times as possible, expanding as needed (lazy)`\n",
        "\n",
        "Matches\n",
        "\n",
        "```\n",
        "\n",
        "o\n",
        "\n",
        "n\n",
        "\n",
        "c\n",
        "\n",
        "e\n",
        "\n",
        "\n",
        "u\n",
        "\n",
        "p\n",
        "\n",
        "o\n",
        "\n",
        "n\n",
        "\n",
        "\n",
        "a\n",
        "\n",
        "\n",
        "t\n",
        "\n",
        "i\n",
        "\n",
        "m\n",
        "\n",
        "e\n",
        "```\n",
        "\n",
        "\n",
        "`+? matches the previous token between one and unlimited times, as few times as possible, expanding as needed (lazy)`\n",
        "\n",
        "\n",
        "Matches:\n",
        "```\n",
        "o\n",
        "n\n",
        "c\n",
        "e\n",
        "u\n",
        "p\n",
        "o\n",
        "n\n",
        "a\n",
        "t\n",
        "i\n",
        "m\n",
        "e\n",
        "```"
      ]
    },
    {
      "cell_type": "markdown",
      "metadata": {
        "id": "aZeqP3FNORa6"
      },
      "source": [
        "### Simple examples\n",
        "\n",
        "Suppose we wanted to write a RE to find cases of the English article the. A simple soln:\n",
        "\n",
        "![](https://i.imgur.com/pH5tgsO.png)\n",
        "\n",
        "But we will still incorrectly return texts with the embedded in other words (e.g., other or theology). So we need to specify that we want instances with a word boundary on both sides:\n",
        "\n",
        "![](https://i.imgur.com/FNVlldf.png)\n",
        "\n",
        "\n",
        "![](https://i.imgur.com/IS8tY5c.png)\n",
        "\n",
        "Suppose we wanted to do this without the use of /\\b/. We might want this since\n",
        "/\\b/ won’t treat underscores and numbers as word boundaries; but we might want\n",
        "to find the in some context where it might also have underlines or numbers nearby\n",
        "(the_ or the25). We need to specify that we want instances in which there are no\n",
        "alphabetic letters on either side of the the:\n",
        "\n",
        "![](https://i.imgur.com/9ZWmwNp.png)\n",
        "\n",
        "\n",
        "![](https://i.imgur.com/vs2JNfV.png)\n",
        "\n",
        "![](https://i.imgur.com/dgomS6F.png)\n",
        "\n",
        "\n",
        "![](https://i.imgur.com/8sY5DbN.png)\n",
        "\n",
        "The process we just went through was based on fixing two kinds of errors: false\n",
        "false positives positives, strings that we incorrectly matched like other or there, and false negafalse negatives tives, strings that we incorrectly missed, like The. Addressing these two kinds of\n",
        "errors comes up again and again in implementing speech and language processing\n",
        "systems\n"
      ]
    },
    {
      "cell_type": "markdown",
      "metadata": {
        "id": "MUmOcOz-7iWT"
      },
      "source": [
        "### More operrators\n",
        "\n",
        "![](https://i.imgur.com/bzFoBPO.png)\n",
        "\n",
        "![](https://i.imgur.com/jtQbqLq.png)"
      ]
    },
    {
      "cell_type": "markdown",
      "metadata": {
        "id": "KZIaSbZrA1RZ"
      },
      "source": [
        "### A More Complex Example\n",
        "\n",
        "Let’s try out a more significant example of the power of REs. Suppose we want to\n",
        "build an application to help a user buy a computer on the Web. The user might want\n",
        "“any machine with at least 6 GHz and 500 GB of disk space for less than $1000”.\n",
        "\n",
        "To do this kind of retrieval, we first need to be able to look for expressions like 6 GHz or 500 GB or Mac or $999.99. In the rest of this section we’ll work out some simple regular expressions for this task.\n",
        "First, let’s complete our regular expression for prices. Here’s a regular expression for a dollar sign followed by a string of digits:\n",
        "\n",
        "/$[0-9]+/\n",
        "\n",
        "Note that the \\$ character has a different function here than the end-of-line function we discussed earlier. Most regular expression parsers are smart enough to realize that $ here doesn’t mean end-of-line\n",
        "\n",
        "![](https://i.imgur.com/ZjQJlob.png)\n",
        "\n",
        "Note in the regex101 platform we had to put in a \"\\\\\" before $ to make it work\n",
        "\n",
        "\n",
        "Now we just need to deal with fractions of dollars. We’ll add a decimal point\n",
        "and two digits afterwards:\n",
        "\n",
        "For example $1000.22\n",
        "\n",
        "Lets start from the beginning\n",
        "\n",
        "`\\$[0-9]+` -> this matches a $ followed by one or more digits\n",
        "\n",
        "`\\.[0-9]{1,2}` -> this matches a . followed by 1 or 2 digits\n",
        "\n",
        "But the .22 pattern can be there or not -> 0 or 1 times\n",
        "\n",
        "So `(\\.[0-9]{1,2}){0,1}`\n",
        "\n",
        "So the full pattern\n",
        "\n",
        "![](https://i.imgur.com/dyTQGKT.png)\n",
        "\n",
        "\n",
        "Lets look at the solution given in the text:\n",
        "\n",
        "\n",
        "`\\$[0-9]+` -> this matches a $ followed by one or more digits\n",
        "\n",
        "\n",
        "`\\$[0-9]+\\.[0-9][0-9]`  -> $ followed by one or more digits followed by . followed by 2 digits\n",
        "\n",
        "`\\$[0-9]+(\\.[0-9][0-9])?` -> making the entire . followed by 2 digits part optional (? matches bw 0->1 times)\n",
        "\n",
        "We just surround these with `(^|\\W)` - basically we match the start of a line or ny non-word character (equivalent to `[^a-zA-Z0-9_]`)\n",
        "\n",
        "Also we end the expression with `\\b` to indicate a word boundary so we dont match `$1000s`\n",
        "\n",
        "![](https://i.imgur.com/W8JSOc8.png)\n",
        "\n",
        "Finally we limit the dollars like:\n",
        "`(ˆ|\\W)\\$[0-9]{0,3}(\\.[0-9][0-9])?\\b`\n",
        "We can also make it: `(ˆ|\\W)\\$[0-9]{1,3}(\\.[0-9][0-9])?\\b` to limit expressions like `$.12`\n",
        "\n",
        "---\n",
        "\n",
        "Now lets tackle memory:\n",
        "\n",
        "![](https://i.imgur.com/MVJqurj.png)\n",
        "\n",
        "Modifying with the word boundaries, the final pattern:\n",
        "\n",
        "`\\b[0-9]+(\\.[0-9]+)? *(GB|[gG]igabytes?)\\b`\n",
        "\n",
        "\n",
        "Modifying this regular expression so that it only matches more than 500 GB is\n",
        "left as an exercise for the reader:\n",
        "\n",
        "\n",
        "![](https://i.imgur.com/oiB2uY5.png)\n",
        "\n",
        "Pattern: `\\b[5-9][0-9]{2,}+(\\.[0-9]+)? *(GB|[gG]igabytes?)\\b`\n",
        "\n",
        "\n",
        "\n",
        "\n",
        "\n"
      ]
    },
    {
      "cell_type": "markdown",
      "metadata": {
        "id": "X39e2dLpMmvA"
      },
      "source": [
        "## Regex101 in Python\n",
        "\n",
        "> http://evc-cit.info/comsc020/python-regex-tutorial/#\n",
        "\n",
        "---"
      ]
    },
    {
      "cell_type": "markdown",
      "metadata": {
        "id": "6fKgbKG2OlW-"
      },
      "source": [
        "### Basics"
      ]
    },
    {
      "cell_type": "code",
      "metadata": {
        "id": "VE5s0G0wQszz"
      },
      "source": [
        "import re"
      ],
      "execution_count": null,
      "outputs": []
    },
    {
      "cell_type": "code",
      "metadata": {
        "colab": {
          "base_uri": "https://localhost:8080/"
        },
        "id": "QY0E5ZbvMse9",
        "outputId": "18abf6a0-4e8d-4fd6-e527-3b5db23771a1"
      },
      "source": [
        "word = 'meini'\n",
        "found = re.search(r'e', word)\n",
        "print (found)"
      ],
      "execution_count": null,
      "outputs": [
        {
          "output_type": "stream",
          "text": [
            "<re.Match object; span=(1, 2), match='e'>\n"
          ],
          "name": "stdout"
        }
      ]
    },
    {
      "cell_type": "code",
      "metadata": {
        "colab": {
          "base_uri": "https://localhost:8080/"
        },
        "id": "eBUs_gtdMxq-",
        "outputId": "e463283e-d129-4cd0-c732-7e319ee950b7"
      },
      "source": [
        "def finder(pattern, word):\n",
        "    found = re.search(pattern, word)\n",
        "    if found:\n",
        "        print(word, 'contains the pattern.')\n",
        "    else:\n",
        "        print(word, 'does not contain the pattern.')\n",
        "\n",
        "finder(r'e.t', 'better')\n",
        "finder(r'e.t', 'either')\n",
        "finder(r'e.t', 'best')\n",
        "finder(r'e.t', 'beast')\n",
        "finder(r'e.t', 'etch')\n",
        "finder(r'e.t', 'ease')"
      ],
      "execution_count": null,
      "outputs": [
        {
          "output_type": "stream",
          "text": [
            "better contains the pattern.\n",
            "either contains the pattern.\n",
            "best contains the pattern.\n",
            "beast does not contain the pattern.\n",
            "etch does not contain the pattern.\n",
            "ease does not contain the pattern.\n"
          ],
          "name": "stdout"
        }
      ]
    },
    {
      "cell_type": "markdown",
      "metadata": {
        "id": "VnZDw--uNKJk"
      },
      "source": [
        "Now let’s find out how to narrow down the field a bit. We’d like to be able to find a pattern consisting of the letter b, any vowel (a, e, i, o, or u), followed by the letter t. To say “any one of a certain series of characters”, you enclose them in square brackets:\n",
        "\n"
      ]
    },
    {
      "cell_type": "code",
      "metadata": {
        "colab": {
          "base_uri": "https://localhost:8080/"
        },
        "id": "do3Fa7ScNAmw",
        "outputId": "639f816f-a133-4ff1-9314-60887b9867f5"
      },
      "source": [
        "finder(r'b[aeiou]t', 'bat')\n",
        "finder(r'b[aeiou]t', 'bet')\n",
        "finder(r'b[aeiou]t', 'rabbit')\n",
        "finder(r'b[aeiou]t', 'robotic')\n",
        "finder(r'b[aeiou]t', 'abutment')\n",
        "finder(r'b[aeiou]t', 'boot')\n",
        "finder(r'b[aeiou]t', 'beautiful')"
      ],
      "execution_count": null,
      "outputs": [
        {
          "output_type": "stream",
          "text": [
            "bat contains the pattern.\n",
            "bet contains the pattern.\n",
            "rabbit contains the pattern.\n",
            "robotic contains the pattern.\n",
            "abutment contains the pattern.\n",
            "boot does not contain the pattern.\n",
            "beautiful does not contain the pattern.\n"
          ],
          "name": "stdout"
        }
      ]
    },
    {
      "cell_type": "markdown",
      "metadata": {
        "id": "DOHSqAWKOGw-"
      },
      "source": [
        "There are abbreviations for establishing a series of letters: [a-f] is the same as `[abcdef]`; `[A-Gm-p]` is the same as `[ABCDEFGmnop]; [0-9]` matches a single digit (same as `[0123456789]`).\n",
        "\n",
        "You may also complement (negate) a class; the next two patterns will look for the letter e followed by anything except a vowel, followed by the letter t; or any character except a capital letter:\n",
        "\n",
        "```\n",
        "r'e[^aeiou]t'\n",
        "r'[^A-Z]'\n",
        "```\n",
        "\n",
        "There are some classes that are so useful that Python provides quick and easy abbrevations:\n",
        "\n",
        "![](https://i.imgur.com/4pNiJOZ.png)"
      ]
    },
    {
      "cell_type": "code",
      "metadata": {
        "colab": {
          "base_uri": "https://localhost:8080/"
        },
        "id": "R3eJ5TmZNMe4",
        "outputId": "ba535c96-fd20-4231-d87f-233531381f2e"
      },
      "source": [
        "def find_ssn(in_str):\n",
        "    found = re.search(r'\\d\\d\\d-\\d\\d-\\d\\d\\d\\d', in_str)\n",
        "    if found:\n",
        "        print(in_str, 'contains a social security number.')\n",
        "    else:\n",
        "        print(in_str, 'does not contain a social security number.')\n",
        "\n",
        "find_ssn('301-22-0156') # these are all made-up numbers\n",
        "find_ssn('301-555-1212')\n",
        "find_ssn('SSN is 562-99-6713')\n"
      ],
      "execution_count": null,
      "outputs": [
        {
          "output_type": "stream",
          "text": [
            "301-22-0156 contains a social security number.\n",
            "301-555-1212 does not contain a social security number.\n",
            "SSN is 562-99-6713 contains a social security number.\n"
          ],
          "name": "stdout"
        }
      ]
    },
    {
      "cell_type": "markdown",
      "metadata": {
        "id": "QldYVpjeOnH6"
      },
      "source": [
        "### Anchors\n",
        "\n",
        "All the patterns youe’ve seen so far will find a match __anywhere within a string__, which is usually - but not always - what you want. \n",
        "\n",
        "For example, you might insist on a capital letter, but only as the very first character in the string. Or, you might say that an employee ID number has to end with a digit. Or, you might want to find the word `go` only if it is at the beginning of a word, so that you will find it in `You met another, and pfft you was gone`., but you won’t mistakenly find it in `I forgot my umbrella`. This is the purpose of an anchor; to make sure that you are at a certain boundary before you continue the match. \n",
        "\n",
        "Unlike character classes, which match individual characters in a string, these anchors do not match any character; they simply establish that you are on the correct boundaries.\n",
        "\n",
        "The up-arrow `^` matches the beginning of a line, and the dollar sign `$ `matches the end of a line. Thus, `^[A-Z]` matches a capital letter at the beginning of the line. __Note that if you put the ^ inside the square brackets, that would mean something entirely different (`[^A-Z] will mean a character not in the set of capital letters`)! A pattern `\\d$` matches a digit at the end of a line. These are the boundaries you will use most often.\n",
        "\n",
        "The other two anchors are `\\b and \\B`, which stand for a “word boundary” and “non-word boundary”. For example, if you want to find the word met at the beginning of a word, we write the pattern `r'\\bmet'`, which will match `The metal plate` and `The metropolitan lifestyle`, but not `Wear your bike helmet`. The pattern `r'ing\\b'` will match `Hiking is fun and Reading, writing, and arithmetic`, but not `Gold ingots are heavy`. Finally,the pattern `r'\\bhat\\b'` matches only the `The hat is red` but not `That is the question` or `she hates anchovies` or `the shattered glass`.\n",
        "\n",
        "\n",
        "\n"
      ]
    },
    {
      "cell_type": "code",
      "metadata": {
        "colab": {
          "base_uri": "https://localhost:8080/"
        },
        "id": "W_LKf1pXOfKf",
        "outputId": "89c0c9f7-c986-4948-8cfe-432560923ee7"
      },
      "source": [
        "def find_boundary(in_str):\n",
        "    found1 = re.search(r'\\bmet', in_str)\n",
        "    found2 = re.search(r'ing\\b', in_str)\n",
        "    found3 = re.search(r'\\bhat\\b', in_str)\n",
        "    if found1:\n",
        "        print(in_str, 'has \"met\" at the start of a word.')\n",
        "    if found2:\n",
        "        print(in_str, 'has \"ing\" at the end of a word.')\n",
        "    if found3:\n",
        "        print(in_str, 'has the word \"hat\" in it.')\n",
        "\n",
        "in_str = \"The hat is red\"\n",
        "find_boundary(in_str)"
      ],
      "execution_count": null,
      "outputs": [
        {
          "output_type": "stream",
          "text": [
            "The hat is red has the word \"hat\" in it.\n"
          ],
          "name": "stdout"
        }
      ]
    },
    {
      "cell_type": "markdown",
      "metadata": {
        "id": "cQpBfhcpQftF"
      },
      "source": [
        "While `\\b` is used to find the breakpoint between words and non-words, `\\B` finds pairs of letters or nonletters; `\\Bmet` and `ing\\b `match the opposite examples of the preceding paragraph; `\\Bhat\\B` matches only the shattered glass.\n",
        "\n"
      ]
    },
    {
      "cell_type": "markdown",
      "metadata": {
        "id": "lNzXuLCVQ3-8"
      },
      "source": [
        "### Repetition\n",
        "\n",
        "![](https://i.imgur.com/kCwhvN3.png)\n",
        "\n",
        "\n"
      ]
    },
    {
      "cell_type": "code",
      "metadata": {
        "colab": {
          "base_uri": "https://localhost:8080/"
        },
        "id": "TwOd0CH5QTMW",
        "outputId": "4160a1ba-4f51-4e27-affd-4f8b2e2e891c"
      },
      "source": [
        "def find_last_and_initial(in_str):\n",
        "    found = re.search(r'^\\w+,?\\s*[A-Z]$', in_str)\n",
        "    if found:\n",
        "        print(in_str, 'contains the pattern.')\n",
        "    else:\n",
        "        print(in_str, 'does not contain the pattern.')\n",
        "\n",
        "find_last_and_initial('Smith, J')\n",
        "find_last_and_initial('M Cano')\n",
        "find_last_and_initial('Nguyen C')"
      ],
      "execution_count": null,
      "outputs": [
        {
          "output_type": "stream",
          "text": [
            "Smith, J contains the pattern.\n",
            "M Cano does not contain the pattern.\n",
            "Nguyen C contains the pattern.\n"
          ],
          "name": "stdout"
        }
      ]
    },
    {
      "cell_type": "markdown",
      "metadata": {
        "id": "7BJc0tS1SPp-"
      },
      "source": [
        "![](https://i.imgur.com/NLWqa43.png)"
      ]
    },
    {
      "cell_type": "markdown",
      "metadata": {
        "id": "px9Qlh8ISkCN"
      },
      "source": [
        "### Grouping\n",
        "\n",
        "So far so good, but what if you want to scan for a last name, followed by an optional comma-whitespace-initial; thus matching only a last name like “Smith” or a full “Smith, J”? You need to put the comma, whitespace, and initial into a unit with parentheses, and then follow it with a ? to indicate that the whole group is optional.\n",
        "\n"
      ]
    },
    {
      "cell_type": "code",
      "metadata": {
        "colab": {
          "base_uri": "https://localhost:8080/"
        },
        "id": "n3cWB-aFSLW0",
        "outputId": "306b1910-6605-4f9a-9113-d68aa3b6f64e"
      },
      "source": [
        "def valid_name(in_str):\n",
        "    found = re.search(r'^\\w+(,?\\s*[A-Z])?$', in_str)\n",
        "    if found:\n",
        "        print(in_str, 'contains the pattern.')\n",
        "    else:\n",
        "        print(in_str, 'does not contain the pattern.')\n",
        "\n",
        "valid_name('Smith, J')\n",
        "valid_name('Madonna')\n",
        "valid_name('Morgan D')"
      ],
      "execution_count": null,
      "outputs": [
        {
          "output_type": "stream",
          "text": [
            "Smith, J contains the pattern.\n",
            "Madonna contains the pattern.\n",
            "Morgan D contains the pattern.\n"
          ],
          "name": "stdout"
        }
      ]
    },
    {
      "cell_type": "markdown",
      "metadata": {
        "id": "cX2VANj0Tk_5"
      },
      "source": [
        "Note: If you want to match a parenthesis in your pattern, you have to precede it with a backslash to make it non-special.\n",
        "\n"
      ]
    },
    {
      "cell_type": "markdown",
      "metadata": {
        "id": "tOiRmUssTn_A"
      },
      "source": [
        "### Modifiers\n",
        "\n",
        "If you want a pattern match to be case-insenstive, add the `flags=re.I` to the `search()` call. (The `I` stands for `IGNORECASE`, which you may also spell out completely if you wish. The following example shows a pattern that will match any Canadian postal code in upper or lower case. Canadian postal codes consist of a letter, a digit, and another letter, followed by a space, a digit, a letter, and another digit. An example of a valid postal code would be `A5B 6R9`. Here is what the code looks like; it does not work in ActiveCode, but will work fine in IDLE.\n",
        "\n"
      ]
    },
    {
      "cell_type": "code",
      "metadata": {
        "colab": {
          "base_uri": "https://localhost:8080/"
        },
        "id": "tPUBXOkKTb16",
        "outputId": "5cadb788-c374-48d0-d31c-1a67a9ac7de2"
      },
      "source": [
        "def valid_postcode(in_str):\n",
        "    found = re.search(r'^[A-Z]\\d[A-Z]\\s+\\d[A-Z]\\d$', in_str, flags=re.I)\n",
        "    if found:\n",
        "        print(in_str, 'is a valid postal code')\n",
        "    else:\n",
        "        print(in_str, 'is not a valid postal code.')\n",
        "\n",
        "valid_postcode('A5B 6R9')\n",
        "valid_postcode('c7H 8j2')"
      ],
      "execution_count": null,
      "outputs": [
        {
          "output_type": "stream",
          "text": [
            "A5B 6R9 is a valid postal code\n",
            "c7H 8j2 is a valid postal code\n"
          ],
          "name": "stdout"
        }
      ]
    },
    {
      "cell_type": "markdown",
      "metadata": {
        "id": "eiMNv22zxQFE"
      },
      "source": [
        "### Advanced Pattern Matching\n",
        "\n",
        "\n",
        "It is now time to reveal a secret: the return value from `search()` is not a boolean; it is a matching object that has special properties that you can examine and use. In the following example, we have put parentheses around the “last name” part of the pattern as well as the “comma and initial” part. If there is a match, the program will display whatever was found in the grouping parentheses. The vertical bars are in the print() so that you can see where there are blanks (if any).\n",
        "\n",
        "\n"
      ]
    },
    {
      "cell_type": "code",
      "metadata": {
        "id": "UwswaCazUCbW"
      },
      "source": [
        "import re"
      ],
      "execution_count": 1,
      "outputs": []
    },
    {
      "cell_type": "code",
      "metadata": {
        "colab": {
          "base_uri": "https://localhost:8080/"
        },
        "id": "OzWMzDvoyb7Z",
        "outputId": "f6704167-98ce-4a43-aedd-57db043b4730"
      },
      "source": [
        "in_str = 'Smith, J'\n",
        "found = re.search(r'^(\\w+)(,?\\s*[A-Z])?$', in_str)\n",
        "\n",
        "print (found)"
      ],
      "execution_count": 2,
      "outputs": [
        {
          "output_type": "stream",
          "text": [
            "<re.Match object; span=(0, 8), match='Smith, J'>\n"
          ],
          "name": "stdout"
        }
      ]
    },
    {
      "cell_type": "code",
      "metadata": {
        "colab": {
          "base_uri": "https://localhost:8080/",
          "height": 35
        },
        "id": "1YYsSGBRyqCr",
        "outputId": "ee67c03d-389e-4ed9-eb96-f72ab103a7cb"
      },
      "source": [
        "found.group(0)"
      ],
      "execution_count": 3,
      "outputs": [
        {
          "output_type": "execute_result",
          "data": {
            "application/vnd.google.colaboratory.intrinsic+json": {
              "type": "string"
            },
            "text/plain": [
              "'Smith, J'"
            ]
          },
          "metadata": {
            "tags": []
          },
          "execution_count": 3
        }
      ]
    },
    {
      "cell_type": "code",
      "metadata": {
        "colab": {
          "base_uri": "https://localhost:8080/",
          "height": 35
        },
        "id": "2xJ4V_gJyuxx",
        "outputId": "2f91d0cd-d12b-4a0b-b49b-622559139c16"
      },
      "source": [
        "found.group(1)"
      ],
      "execution_count": 4,
      "outputs": [
        {
          "output_type": "execute_result",
          "data": {
            "application/vnd.google.colaboratory.intrinsic+json": {
              "type": "string"
            },
            "text/plain": [
              "'Smith'"
            ]
          },
          "metadata": {
            "tags": []
          },
          "execution_count": 4
        }
      ]
    },
    {
      "cell_type": "code",
      "metadata": {
        "colab": {
          "base_uri": "https://localhost:8080/",
          "height": 35
        },
        "id": "m_tBw-44ywaP",
        "outputId": "1cffb961-3443-445a-e411-fac9f95676ef"
      },
      "source": [
        "found.group(2)"
      ],
      "execution_count": 5,
      "outputs": [
        {
          "output_type": "execute_result",
          "data": {
            "application/vnd.google.colaboratory.intrinsic+json": {
              "type": "string"
            },
            "text/plain": [
              "', J'"
            ]
          },
          "metadata": {
            "tags": []
          },
          "execution_count": 5
        }
      ]
    },
    {
      "cell_type": "markdown",
      "metadata": {
        "id": "x-HS2s2Jy9fz"
      },
      "source": [
        "The op of the above code is same as we observe in regex101 tool:\n",
        "![](https://i.imgur.com/p3L0Q4w.png)"
      ]
    },
    {
      "cell_type": "code",
      "metadata": {
        "colab": {
          "base_uri": "https://localhost:8080/"
        },
        "id": "e0PDbZWMyx3q",
        "outputId": "b924af38-7243-4e2b-dadf-bfb946bc943f"
      },
      "source": [
        "def valid_name(in_str):\n",
        "    found = re.search(r'^(\\w+)(,?\\s*[A-Z])?$', in_str)\n",
        "    if found:\n",
        "        print('Pattern match results:')\n",
        "        print('whole match:      |', found.group(0), '|', sep='')\n",
        "        print('first set of ():  |', found.group(1), '|', sep='')\n",
        "        print('second set of (): |', found.group(2), '|', sep='')\n",
        "    else:\n",
        "        print(in_str, 'does not contain the pattern.')\n",
        "\n",
        "valid_name('Smith, J')\n",
        "valid_name('Madonna')  # try uncommenting these as well\n",
        "valid_name('Morgan D')"
      ],
      "execution_count": 7,
      "outputs": [
        {
          "output_type": "stream",
          "text": [
            "Pattern match results:\n",
            "whole match:      |Smith, J|\n",
            "first set of ():  |Smith|\n",
            "second set of (): |, J|\n",
            "Pattern match results:\n",
            "whole match:      |Madonna|\n",
            "first set of ():  |Madonna|\n",
            "second set of (): |None|\n",
            "Pattern match results:\n",
            "whole match:      |Morgan D|\n",
            "first set of ():  |Morgan|\n",
            "second set of (): | D|\n"
          ],
          "name": "stdout"
        }
      ]
    },
    {
      "cell_type": "markdown",
      "metadata": {
        "id": "tp6zbzQpzcSR"
      },
      "source": [
        "In the preceding code, found is the match object produced by the `search()` method. The `found.group(0)` method calls contains everything matched by the entire pattern. `found.group(1)` contains the part of the string that the first set of grouping parentheses matched–the last name, and `found.group(2)` contains the part of the string matched by the second set of grouping parentheses–the comma and initial, if any. If the pattern had more groups of parentheses, you would use `.group(3), .group(4)`, and so forth.\n",
        "\n",
        "\n",
        "If you look at the output from `Smith, J` you’ll see that the second set of grouping parentheses doesn’t give you quite what you want. The group stores the entire matched substring, which includes the comma. You’d like to store only the initial. You can do this two ways. First, you can include yet another set of parentheses:\n",
        "\n",
        "\n"
      ]
    },
    {
      "cell_type": "code",
      "metadata": {
        "colab": {
          "base_uri": "https://localhost:8080/"
        },
        "id": "YWkhWDaWzK3K",
        "outputId": "b59b587f-11e5-426a-e6cd-a9c3b3c4892a"
      },
      "source": [
        "def valid_name(in_str):\n",
        "    found = re.search(r'^(\\w+)(,?\\s*([A-Z]))?$', in_str)\n",
        "    if found:\n",
        "        print('Pattern match results:')\n",
        "        print('whole match:     |', found.group(0), '|', sep='')\n",
        "        print('first set of (): |', found.group(1), '|', sep='')\n",
        "        print('outer set of (): |', found.group(2), '|', sep='')\n",
        "        print('inner set of (): |', found.group(3), '|', sep='')\n",
        "    else:\n",
        "        print(in_str, 'does not contain the pattern.')\n",
        "\n",
        "valid_name('Smith, J')"
      ],
      "execution_count": 8,
      "outputs": [
        {
          "output_type": "stream",
          "text": [
            "Pattern match results:\n",
            "whole match:     |Smith, J|\n",
            "first set of (): |Smith|\n",
            "outer set of (): |, J|\n",
            "inner set of (): |J|\n"
          ],
          "name": "stdout"
        }
      ]
    },
    {
      "cell_type": "markdown",
      "metadata": {
        "id": "HsKG8YclEvHL"
      },
      "source": [
        "If you do it this way, then the capital letter is stored in `found.group(3)` and the entire comma-and-initial is stored in `found.group(2)`.\n",
        "\n",
        "The other way to do this is to say that the outer parentheses should group but not store the matched portion in the result array. You do that with a question mark and colon right after the outer parentheses.\n",
        "\n",
        "So, `(?: ...pattern goes here...)` indicates that this will be a __non-capturing group__\n",
        "\n",
        "What groups basically mean is that we want to store thema and access the sub-patterns separately, this `?:` specifies that i dont want to store it\n",
        "\n",
        "![](https://i.imgur.com/BCRJoP3.png)"
      ]
    },
    {
      "cell_type": "code",
      "metadata": {
        "colab": {
          "base_uri": "https://localhost:8080/"
        },
        "id": "q45zAWQNzzZa",
        "outputId": "49720020-e984-4442-fc3d-db558bd233a3"
      },
      "source": [
        "def valid_name(in_str):\n",
        "    found = re.search(r'^(\\w+)(?:,?\\s*([A-Z]))?$', in_str)\n",
        "    if found:\n",
        "        print('Pattern match results:')\n",
        "        print('whole match:     |', found.group(0), '|', sep='')\n",
        "        print('first set of (): |', found.group(1), '|', sep='')\n",
        "        print('inner set of (): |', found.group(2), '|', sep='')\n",
        "    else:\n",
        "        print(in_str, 'does not contain the pattern.')\n",
        "\n",
        "valid_name('Smith, J')"
      ],
      "execution_count": 10,
      "outputs": [
        {
          "output_type": "stream",
          "text": [
            "Pattern match results:\n",
            "whole match:     |Smith, J|\n",
            "first set of (): |Smith|\n",
            "inner set of (): |J|\n"
          ],
          "name": "stdout"
        }
      ]
    },
    {
      "cell_type": "markdown",
      "metadata": {
        "id": "_Ow4jgi3GRQx"
      },
      "source": [
        "![](https://i.imgur.com/gbugJry.png)"
      ]
    },
    {
      "cell_type": "code",
      "metadata": {
        "id": "rIuVFg5xFbUW"
      },
      "source": [
        ""
      ],
      "execution_count": null,
      "outputs": []
    }
  ]
}